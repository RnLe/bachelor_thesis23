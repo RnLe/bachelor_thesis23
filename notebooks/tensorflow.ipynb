{
 "cells": [
  {
   "cell_type": "code",
   "execution_count": 1,
   "metadata": {},
   "outputs": [
    {
     "name": "stderr",
     "output_type": "stream",
     "text": [
      "2023-08-08 16:35:55.855856: I tensorflow/core/util/port.cc:110] oneDNN custom operations are on. You may see slightly different numerical results due to floating-point round-off errors from different computation orders. To turn them off, set the environment variable `TF_ENABLE_ONEDNN_OPTS=0`.\n",
      "2023-08-08 16:35:55.883503: I tensorflow/core/platform/cpu_feature_guard.cc:182] This TensorFlow binary is optimized to use available CPU instructions in performance-critical operations.\n",
      "To enable the following instructions: AVX2 AVX_VNNI FMA, in other operations, rebuild TensorFlow with the appropriate compiler flags.\n",
      "2023-08-08 16:35:56.302736: W tensorflow/compiler/tf2tensorrt/utils/py_utils.cc:38] TF-TRT Warning: Could not find TensorRT\n",
      "/home/renlephy/miniconda3/envs/bachelor/lib/python3.10/site-packages/numpy/core/getlimits.py:518: UserWarning: The value of the smallest subnormal for <class 'numpy.float32'> type is zero.\n",
      "  setattr(self, word, getattr(machar, word).flat[0])\n",
      "/home/renlephy/miniconda3/envs/bachelor/lib/python3.10/site-packages/numpy/core/getlimits.py:89: UserWarning: The value of the smallest subnormal for <class 'numpy.float32'> type is zero.\n",
      "  return self._float_to_str(self.smallest_subnormal)\n",
      "/home/renlephy/miniconda3/envs/bachelor/lib/python3.10/site-packages/numpy/core/getlimits.py:518: UserWarning: The value of the smallest subnormal for <class 'numpy.float64'> type is zero.\n",
      "  setattr(self, word, getattr(machar, word).flat[0])\n",
      "/home/renlephy/miniconda3/envs/bachelor/lib/python3.10/site-packages/numpy/core/getlimits.py:89: UserWarning: The value of the smallest subnormal for <class 'numpy.float64'> type is zero.\n",
      "  return self._float_to_str(self.smallest_subnormal)\n"
     ]
    }
   ],
   "source": [
    "# Basics\n",
    "from Solver import Particle, Perceptron, PerceptronModel, VicsekModel, NeuralNetwork, PerceptronMode, Mode, NeuralSwarmModel\n",
    "\n",
    "import tensorflow   as tf\n",
    "import numpy        as np\n",
    "import os\n",
    "import logging\n",
    "import time\n",
    "\n",
    "# Logging\n",
    "# logging.basicConfig(level=logging.INFO)\n",
    "logger = logging.getLogger(__name__)\n",
    "\n",
    "# Allow for parallelization in both, tensorflow and the C++ backend (OMP)\n",
    "# os.environ['KMP_DUPLICATE_LIB_OK']='True'\n",
    "\n",
    "# Simulation Environment\n",
    "from tf_agents.trajectories     import time_step as ts\n",
    "from tf_agents.specs            import array_spec\n",
    "from tf_agents.environments     import py_environment\n",
    "\n",
    "# Evaluation Environment\n",
    "from tf_agents.networks         import network\n",
    "from tf_agents.train.utils      import spec_utils\n",
    "from tf_agents.environments     import tf_py_environment\n",
    "\n",
    "# Environment Testing\n",
    "from tf_agents.environments     import utils\n",
    "\n",
    "# Critic Network\n",
    "from tf_agents.agents.ddpg      import critic_network\n",
    "\n",
    "# DDPG Agent\n",
    "from tf_agents.agents.ddpg      import ddpg_agent\n",
    "from tf_agents.train.utils      import train_utils\n",
    "\n",
    "# Replay Buffer\n",
    "import reverb\n",
    "from tf_agents.replay_buffers   import reverb_replay_buffer\n",
    "from tf_agents.replay_buffers   import reverb_utils\n",
    "\n",
    "# Policies\n",
    "from tf_agents.policies         import py_tf_eager_policy\n",
    "from tf_agents.policies         import random_py_policy\n",
    "\n",
    "# Actors\n",
    "from tf_agents.train            import actor\n",
    "from tf_agents.metrics          import py_metrics\n",
    "from tf_agents.train            import learner\n",
    "\n",
    "import tempfile\n",
    "\n",
    "# Learner\n",
    "from tf_agents.train            import triggers\n",
    "\n",
    "# Plotting\n",
    "import matplotlib.pyplot        as plt"
   ]
  },
  {
   "cell_type": "markdown",
   "metadata": {},
   "source": [
    "# Simulation Parameters"
   ]
  },
  {
   "cell_type": "code",
   "execution_count": 2,
   "metadata": {},
   "outputs": [],
   "source": [
    "# Simulation settings\n",
    "settings = {\n",
    "        #                  N,      L,      v,      noise,  r\n",
    "        \"small\": [         100,    10,     0.03,   0.1,    1]\n",
    "    }\n",
    "    \n",
    "# Choose between RADIUS, FIXED, FIXEDRADIUS (don't use RADIUS)\n",
    "mode = Mode.FIXEDRADIUS\n",
    "# Flags\n",
    "ZDimension = False     # 2D or 3D\n",
    "seed = False           # Random seed\n",
    "# Choose settings\n",
    "chosen_settings = settings[\"small\"]\n",
    "N       = chosen_settings[0]\n",
    "L       = chosen_settings[1]\n",
    "v       = chosen_settings[2]\n",
    "noise   = chosen_settings[3]\n",
    "r       = chosen_settings[4]\n",
    "\n",
    "k_neighbors = 5"
   ]
  },
  {
   "cell_type": "markdown",
   "metadata": {},
   "source": [
    "# Hyperparameters\n",
    "There are a lot of hyperparameters that can be tuned in a neural network, especially in a framework that allows for a lot of flexibility like TensorFlow. In this notebook, some of the hyperparameters are explored that can be tuned in a neural network (or agent- and RL-based framework) and how they affect the performance of the network. \n",
    "\n",
    "**However**, not all parameters that can be interpreted as hyperparameters are essential. TensorFlow has a lot of default values for parameters that are not essential to the network. Consequently, to retain readability but also offer TensorFlow's flexibility, hyperparameters are separated in **two blocks**.\n",
    "\n",
    "1. Essential hyperparameters\n",
    "2. Non-essential hyperparameters (default values)\n",
    "\n",
    "### Essential hyperparameters\n",
    "Essential hyperparameters are parameters that are essential to the network. These parameters are the ones that are most likely to be tuned in order to improve the performance of the network. These parameters are:"
   ]
  },
  {
   "cell_type": "code",
   "execution_count": 3,
   "metadata": {},
   "outputs": [
    {
     "name": "stderr",
     "output_type": "stream",
     "text": [
      "2023-08-08 16:35:57.334175: I tensorflow/compiler/xla/stream_executor/cuda/cuda_gpu_executor.cc:981] could not open file to read NUMA node: /sys/bus/pci/devices/0000:01:00.0/numa_node\n",
      "Your kernel may have been built without NUMA support.\n",
      "2023-08-08 16:35:57.365254: I tensorflow/compiler/xla/stream_executor/cuda/cuda_gpu_executor.cc:981] could not open file to read NUMA node: /sys/bus/pci/devices/0000:01:00.0/numa_node\n",
      "Your kernel may have been built without NUMA support.\n",
      "2023-08-08 16:35:57.365290: I tensorflow/compiler/xla/stream_executor/cuda/cuda_gpu_executor.cc:981] could not open file to read NUMA node: /sys/bus/pci/devices/0000:01:00.0/numa_node\n",
      "Your kernel may have been built without NUMA support.\n",
      "2023-08-08 16:35:57.369622: I tensorflow/compiler/xla/stream_executor/cuda/cuda_gpu_executor.cc:981] could not open file to read NUMA node: /sys/bus/pci/devices/0000:01:00.0/numa_node\n",
      "Your kernel may have been built without NUMA support.\n",
      "2023-08-08 16:35:57.369657: I tensorflow/compiler/xla/stream_executor/cuda/cuda_gpu_executor.cc:981] could not open file to read NUMA node: /sys/bus/pci/devices/0000:01:00.0/numa_node\n",
      "Your kernel may have been built without NUMA support.\n",
      "2023-08-08 16:35:57.369672: I tensorflow/compiler/xla/stream_executor/cuda/cuda_gpu_executor.cc:981] could not open file to read NUMA node: /sys/bus/pci/devices/0000:01:00.0/numa_node\n",
      "Your kernel may have been built without NUMA support.\n",
      "2023-08-08 16:35:57.768444: I tensorflow/compiler/xla/stream_executor/cuda/cuda_gpu_executor.cc:981] could not open file to read NUMA node: /sys/bus/pci/devices/0000:01:00.0/numa_node\n",
      "Your kernel may have been built without NUMA support.\n",
      "2023-08-08 16:35:57.768488: I tensorflow/compiler/xla/stream_executor/cuda/cuda_gpu_executor.cc:981] could not open file to read NUMA node: /sys/bus/pci/devices/0000:01:00.0/numa_node\n",
      "Your kernel may have been built without NUMA support.\n",
      "2023-08-08 16:35:57.768493: I tensorflow/core/common_runtime/gpu/gpu_device.cc:1726] Could not identify NUMA node of platform GPU id 0, defaulting to 0.  Your kernel may not have been built with NUMA support.\n",
      "2023-08-08 16:35:57.768509: I tensorflow/compiler/xla/stream_executor/cuda/cuda_gpu_executor.cc:981] could not open file to read NUMA node: /sys/bus/pci/devices/0000:01:00.0/numa_node\n",
      "Your kernel may have been built without NUMA support.\n",
      "2023-08-08 16:35:57.768531: I tensorflow/core/common_runtime/gpu/gpu_device.cc:1639] Created device /job:localhost/replica:0/task:0/device:GPU:0 with 9330 MB memory:  -> device: 0, name: NVIDIA GeForce RTX 4070 Ti, pci bus id: 0000:01:00.0, compute capability: 8.9\n"
     ]
    }
   ],
   "source": [
    "# Critic Network\n",
    "observation_fc_layer_params     = (20,20)                       # @param {type:\"tuple\"}         - NO DEFAULT\n",
    "action_fc_layer_params          = (20,)                         # @param {type:\"tuple\"}         - NO DEFAULT\n",
    "joint_fc_layer_params           = (50,)                         # @param {type:\"tuple\"}         - NO DEFAULT\n",
    "activation_fn                   = \"relu\"                        # @param {type:\"string\"}        - Default: \"relu\"\n",
    "kernel_initializer              = \"glorot_uniform\"              # @param {type:\"string\"}        - Default: \"glorot_uniform\"\n",
    "last_kernel_initializer         = \"glorot_uniform\"              # @param {type:\"string\"}        - Default: \"glorot_uniform\"\n",
    "\n",
    "# DDPG Agent\n",
    "actor_learning_rate             = 0.01                          # @param {type:\"float\"}         - Default: 0.001\n",
    "actor_optimizer                 = tf.keras.optimizers.Adam(\n",
    "    learning_rate=actor_learning_rate)                          #                               - NO DEFAULT\n",
    "critic_learning_rate            = 0.01                          # @param {type:\"float\"}         - Default: 0.001\n",
    "critic_optimizer                = tf.keras.optimizers.Adam(\n",
    "    learning_rate=critic_learning_rate)                         #                               - NO DEFAULT\n",
    "target_update_tau               = 1.0                           # @param {type:\"float\"}         - Default: 1.0\n",
    "target_update_period            = 1                             # @param {type:\"int\"}           - Default: 1\n",
    "td_errors_loss_fn = tf.math.squared_difference                  #                               - NO DEFAULT\n",
    "gamma                           = 1.0                           # @param {type:\"float\"}         - Default: 1.0\n",
    "reward_scale_factor             = 1.0                           # @param {type:\"float\"}         - Default: 1.0\n",
    "\n",
    "# Replay Buffer\n",
    "# Table\n",
    "replay_buffer_capacity          = 100000                        # @param {type:\"integer\"}       - NO DEFAULT\n",
    "sampler                         = reverb.selectors.Uniform()    #                               - NO DEFAULT\n",
    "remover                         = reverb.selectors.Fifo()       #                               - NO DEFAULT\n",
    "# Rate Limiter\n",
    "samples_per_insert              = 1.0                           # @param {type:\"float\"}         - NO DEFAULT\n",
    "min_size_to_sample              = 2                             # @param {type:\"integer\"}       - NO DEFAULT\n",
    "error_buffer                    = samples_per_insert            # {float | Tuple[float, float]} - NO DEFAULT\n",
    "# Saving and Sampling\n",
    "sequence_length                 = 2                             # @param {type:\"integer\"}       - NO DEFAULT\n",
    "batch_size                      = 1                             # @param {type:\"integer\"}       - NO DEFAULT\n",
    "num_steps                       = 2                             # @param {type:\"integer\"}       - NO DEFAULT\n",
    "num_prefetch                    = 1                             # @param {type:\"integer\"}       - NO DEFAULT\n",
    "\n",
    "# Observer\n",
    "observer_sequence_length        = 2                             # @param {type:\"integer\"}       - NO DEFAULT\n",
    "observer_stride_length          = 1                             # @param {type:\"integer\"}       - Default: 1\n",
    "\n",
    "# Actors\n",
    "initial_collect_steps           = 2                             # @param {type:\"integer\"}       - NO DEFAULT\n",
    "collector_steps_per_run         = 2                             # @param {type:\"integer\"}       - NO DEFAULT\n",
    "eval_episodes_per_run           = 1                             # @param {type:\"integer\"}       - NO DEFAULT\n",
    "\n",
    "# Learning Trigger\n",
    "policy_save_interval            = 10                            # @param {type:\"integer\"}       - NO DEFAULT\n",
    "\n",
    "# Training\n",
    "num_iterations                  = 90                            # @param {type:\"integer\"}       - NO DEFAULT\n",
    "eval_interval                   = 10                            # @param {type:\"integer\"}       - NO DEFAULT\n",
    "log_interval                    = 10                            # @param {type:\"integer\"}       - NO DEFAULT\n",
    "iterations_per_call             = 1                             # @param {type:\"integer\"}       - Default: 1"
   ]
  },
  {
   "cell_type": "markdown",
   "metadata": {},
   "source": [
    "### Non-essential hyperparameters (default values)\n",
    "These hyperparameters are not required to be set, but can be tuned to improve performance or test different configurations.\n",
    "### (to be done)"
   ]
  },
  {
   "cell_type": "markdown",
   "metadata": {},
   "source": [
    "# Simulation Environment"
   ]
  },
  {
   "cell_type": "code",
   "execution_count": 4,
   "metadata": {},
   "outputs": [],
   "source": [
    "# Create a custom environment\n",
    "class SimulationEnvironment(py_environment.PyEnvironment):\n",
    "    \"\"\"Interface for a swarm simulation environment.\n",
    "    \n",
    "    Can be converted into a TensorFlow environment.\n",
    "    \n",
    "    Provides uniform access to the simulation and hosts the reward function.\n",
    "    \"\"\"\n",
    "    minimum = 0.0\n",
    "    maximum = 2*np.pi\n",
    "    \n",
    "    def __init__(self):\n",
    "        # The action is the angle of the particle\n",
    "        self._action_spec = array_spec.BoundedArraySpec(\n",
    "            shape=(), dtype=np.float32, minimum=self.minimum, maximum=self.maximum, name='action')\n",
    "        \n",
    "        \n",
    "        # k_neighbors + 1 because the particle itself is also included\n",
    "        # [ ] Change the observation to a relative angle (this reduces the dimensionality of the observation space by 1)\n",
    "        self._observation_spec = array_spec.BoundedArraySpec(\n",
    "            shape=(k_neighbors + 1,), dtype=np.float32, minimum=self.minimum, maximum=self.maximum, name='observation')\n",
    "        \n",
    "        # Flags and variables\n",
    "        self._episode_ended = False\n",
    "        self.simulation = NeuralSwarmModel(N, L, v, noise, r, mode, k_neighbors, ZDimension, seed=seed)\n",
    "        self._state = self.simulation.mean_direction2D()\n",
    "        # One \"episode\" and its corresponding reward consists of the iteration over all N particles\n",
    "        self.index = 0\n",
    "        # To change all angles at once, we need to store the new angles in a list\n",
    "        self.new_angles = np.zeros(shape=(N,), dtype=np.float32)\n",
    "        observation = self.simulation.get_angles(self.index)\n",
    "        self._current_time_step = ts.restart(np.array(observation, dtype=np.float32))\n",
    "        \n",
    "\n",
    "    def observation_spec(self):\n",
    "        \"\"\"Return observation_spec.\"\"\"\n",
    "        # DONE\n",
    "        return self._observation_spec\n",
    "\n",
    "    def action_spec(self):\n",
    "        \"\"\"Return action_spec.\"\"\"\n",
    "        # DONE\n",
    "        return self._action_spec\n",
    "    \n",
    "    def reset(self):\n",
    "        \"\"\"Return initial_time_step and reset the simulation.\n",
    "        \n",
    "        Note that this is a hard reset and not a reset for the current epoch.\"\"\"\n",
    "        \n",
    "        # DONE\n",
    "        self._current_time_step = self._reset()\n",
    "        return self._current_time_step\n",
    "\n",
    "    def step(self, action):\n",
    "        \"\"\"Apply action and return new time_step.\"\"\"\n",
    "        # DONE\n",
    "        if self._current_time_step is None:\n",
    "            return self.reset()\n",
    "        self._current_time_step = self._step(action)\n",
    "        return self._current_time_step\n",
    "\n",
    "    def current_time_step(self):\n",
    "        # DONE\n",
    "        return self._current_time_step\n",
    "\n",
    "    # def time_step_spec(self):\n",
    "        \"\"\"Return time_step_spec.\"\"\"\n",
    "        # DONE\n",
    "        # return ts.time_step_spec(self.observation_spec())\n",
    "\n",
    "    def _reset(self):\n",
    "        \"\"\"Return initial_time_step and reset the simulation.\n",
    "        \n",
    "        Note that this is a hard reset.\"\"\"\n",
    "        # The episode ends when all particles have been updated. An epoch ends when the simulation is reset.\n",
    "        # THOUGHTS: Epochs can't be implemented right now, since the simulation gets hard reset after every episode. (by the framework)\n",
    "        # Reset simulation\n",
    "        self.simulation = NeuralSwarmModel(N, L, v, noise, r, mode, k_neighbors, ZDimension, seed=False)\n",
    "        self._state = self.simulation.mean_direction2D()\n",
    "        self._episode_ended = False\n",
    "        self.index = 0\n",
    "        observation = self.simulation.get_angles(self.index)\n",
    "        logger.info(f'Reset with observation = {observation}')\n",
    "        return ts.restart(np.array(observation, dtype=np.float32))\n",
    "    \n",
    "    def _step(self, action):\n",
    "        \"\"\"Apply action and return new time_step.\n",
    "        This method hosts the reward function.\"\"\"\n",
    "\n",
    "        logger.info(f'Step with action = {action}')\n",
    "        # Check action boundaries\n",
    "        action = np.clip(action, self.minimum, self.maximum)\n",
    "        \n",
    "        # Calculate the local order parameter before applying the action\n",
    "        initial_order_param = self.simulation.get_local_order_parameter(self.index)\n",
    "        \n",
    "        # Update angle of the particle, but don't update the simulation yet\n",
    "        self.new_angles[self.index] = action\n",
    "        \n",
    "        # Apply the action\n",
    "        self.simulation.update_angle(self.index, action)\n",
    "        \n",
    "        # Calculate the local order parameter after applying the action\n",
    "        final_order_param = self.simulation.get_local_order_parameter(self.index)\n",
    "        \n",
    "        # Calculate the reward as the signed difference of the order parameters\n",
    "        reward = final_order_param - initial_order_param\n",
    "\n",
    "        # Increment the index to the next particle\n",
    "        self.index += 1\n",
    "        \n",
    "        # Create the observation\n",
    "        observation = self.simulation.get_angles(self.index)\n",
    "        observation = np.array(observation, dtype=np.float32)\n",
    "        observation = np.where(observation < 0.0, 0.0, observation)  # Make sure observation is positive\n",
    "\n",
    "        # Check validity of observation\n",
    "        if np.isnan(observation).any():\n",
    "            raise ValueError(f'The observation contains nan. Observation = {observation}.')\n",
    "        elif np.any(observation < self.minimum) or np.any(observation > self.maximum):\n",
    "            raise ValueError(f'The observation is not in the correct range. Observation = {observation}.')\n",
    "\n",
    "        # Check if we've gone through all particles\n",
    "        if self.index >= N - 1:\n",
    "            self._episode_ended = True\n",
    "            self.index = 0\n",
    "            \n",
    "            self.simulation.update()\n",
    "            self._state = self.simulation.mean_direction2D()\n",
    "            \n",
    "            # We can add the state difference to the reward if needed\n",
    "            # reward += self._state - oldState  # Uncomment this line if you want to add the global reward component\n",
    "            logger.info(f'Episode ended with reward = {reward}')\n",
    "            return ts.termination(observation, reward)\n",
    "\n",
    "        logger.info(f'Step ended with reward = {reward}')\n",
    "        return ts.transition(observation, reward=reward, discount=1.0)\n"
   ]
  },
  {
   "cell_type": "markdown",
   "metadata": {},
   "source": [
    "![Environment Flowchart Functions](illustrations/environment_flowchart_functions_transparent.png)"
   ]
  },
  {
   "cell_type": "markdown",
   "metadata": {},
   "source": [
    "# Strategies\n",
    "\n",
    "With this option, the training can be scaled to multiple GPUs or TPUs, or multiple machines.\n",
    "\n",
    "For this to work, two steps are necessary:\n",
    "\n",
    "- The strategy has to be initialised.\n",
    "- The model must be defined in a strategy scope.\n",
    "\n",
    "In this project this option is not used, but it is included for completeness."
   ]
  },
  {
   "cell_type": "code",
   "execution_count": 5,
   "metadata": {},
   "outputs": [
    {
     "data": {
      "text/plain": [
       "\"\\nfrom tf_agents.train.utils import strategy_utils\\n\\n# Distribution strategy\\n# For now, don't use GPU or TPU\\n\\nstrategy = strategy_utils.get_strategy(tpu=False, use_gpu=False)\\n\\n# All variables and Agents need to be created under strategy.scope()\\n\""
      ]
     },
     "execution_count": 5,
     "metadata": {},
     "output_type": "execute_result"
    }
   ],
   "source": [
    "\"\"\"\n",
    "from tf_agents.train.utils import strategy_utils\n",
    "\n",
    "# Distribution strategy\n",
    "# For now, don't use GPU or TPU\n",
    "\n",
    "strategy = strategy_utils.get_strategy(tpu=False, use_gpu=False)\n",
    "\n",
    "# All variables and Agents need to be created under strategy.scope()\n",
    "\"\"\""
   ]
  },
  {
   "cell_type": "markdown",
   "metadata": {},
   "source": [
    "# Environment Wrapping\n",
    "\n",
    "To ensure compatibility with the TensorFlow Agents (TF-Agents) framework, the code involves a necessary process of environment wrapping.\n",
    "\n",
    "There are two distinct environments established, each tailored for different aspects of the training process:\n",
    "\n",
    "## Training Environment (`collect_env`)\n",
    "\n",
    "- **Purpose**: Primarily employed for training the agent.\n",
    "- **Data Collection**: Retrieves interactions from the environment and stores them in a replay buffer, which serves as a repository of experience to train the agent.\n",
    "- **Agent Updates**: Utilizes the critic network to compute the loss and refine the agent.\n",
    "- **Characteristics**:\n",
    "  - **Exploration**: Incorporates various strategies for data acquisition. It often integrates components such as noise to encourage the agent to explore novel actions.\n",
    "  - **Action Handling**: May use action clipping to ensure the agent's actions are within permissible bounds.\n",
    "\n",
    "## Evaluation Environment (`eval_env`)\n",
    "\n",
    "- **Purpose**: Specifically designed for evaluating the agent's performance.\n",
    "- **Performance Metrics**: Monitors how well the agent performs, ensuring an unbiased assessment by eliminating training-related components (like noise or exploration).\n",
    "- **Characteristics**:\n",
    "  - Operates without the aforementioned noise or exploration components to provide a clear view of the agent's capabilities in a given task.\n",
    "\n",
    "Both environments undergo a wrapping process to make them seamlessly integrate with TensorFlow operations, thereby streamlining training and evaluation processes.\n"
   ]
  },
  {
   "cell_type": "code",
   "execution_count": 6,
   "metadata": {},
   "outputs": [],
   "source": [
    "# There are two networks and two environments: one for training and one for evaluation.\n",
    "collect_env = SimulationEnvironment()\n",
    "eval_env = SimulationEnvironment()\n",
    "\n",
    "# Wrap the environment in a TF environment.\n",
    "tf_collect_env = tf_py_environment.TFPyEnvironment(collect_env)\n",
    "tf_eval_env = tf_py_environment.TFPyEnvironment(eval_env)\n",
    "\n",
    "# For the network to work with the environment, the specs have to be known.\n",
    "observation_spec, action_spec, time_step_spec = (spec_utils.get_tensor_specs(tf_collect_env))"
   ]
  },
  {
   "cell_type": "markdown",
   "metadata": {},
   "source": [
    "# Testing Checkpoint"
   ]
  },
  {
   "cell_type": "code",
   "execution_count": 7,
   "metadata": {},
   "outputs": [
    {
     "name": "stdout",
     "output_type": "stream",
     "text": [
      "Testing the python environments\n",
      "Testing the collect environment\n",
      "Testing the eval environment\n"
     ]
    }
   ],
   "source": [
    "# Test the python environments\n",
    "\n",
    "print(\"Testing the python environments\")\n",
    "print(\"Testing the collect environment\")\n",
    "utils.validate_py_environment(collect_env, episodes=1)\n",
    "print(\"Testing the eval environment\")\n",
    "utils.validate_py_environment(eval_env, episodes=1)"
   ]
  },
  {
   "cell_type": "markdown",
   "metadata": {},
   "source": [
    "### YES! IT WORKS!"
   ]
  },
  {
   "cell_type": "markdown",
   "metadata": {},
   "source": [
    "# Actor-Critic Networks\n",
    "\n",
    "## Overview\n",
    "\n",
    "DDPG (Deep Deterministic Policy Gradients) is a model-free, online, off-policy reinforcement learning method. The method uses a policy network (the Actor) to select actions and a value network (the Critic) to evaluate them. The given code provides the implementation of these two networks."
   ]
  },
  {
   "cell_type": "code",
   "execution_count": 8,
   "metadata": {},
   "outputs": [],
   "source": [
    "# Define a network that can learn to predict the action given an observation.\n",
    "# This is a simple (on demand fully connected) network that takes in an observation and outputs an action.\n",
    "\n",
    "class ActorNet(network.Network):\n",
    "\n",
    "  def __init__(self, input_tensor_spec, output_tensor_spec, name='ActorNet'):\n",
    "    super(ActorNet, self).__init__(\n",
    "        input_tensor_spec=input_tensor_spec,\n",
    "        state_spec=())\n",
    "    self._output_tensor_spec = output_tensor_spec\n",
    "    # THOUGHTS: For now, only one layer is used. This can be changed later.\n",
    "    self._sub_layers = [\n",
    "        tf.keras.layers.Dense(\n",
    "            action_spec.shape.num_elements(), activation=\"linear\"),\n",
    "    ]\n",
    "\n",
    "  def call(self, observations, step_type=(), network_state=()):\n",
    "    del step_type  # unused.\n",
    "    \n",
    "    output = tf.cast(observations, dtype=tf.float32)\n",
    "    for layer in self._sub_layers:\n",
    "      output = layer(output)\n",
    "    actions = tf.reshape(output, [-1] + self._output_tensor_spec.shape.as_list())\n",
    "\n",
    "    # Scale and shift actions to the correct range if necessary.\n",
    "    return actions, network_state\n",
    "\n",
    "\n",
    "# Create the Actor Network\n",
    "actor_net = ActorNet(\n",
    "    input_tensor_spec=observation_spec,\n",
    "    output_tensor_spec=action_spec)\n",
    "\n",
    "\n",
    "# Critic Network\n",
    "critic_net = critic_network.CriticNetwork(\n",
    "      (observation_spec, action_spec),\n",
    "      observation_fc_layer_params=observation_fc_layer_params,\n",
    "      action_fc_layer_params=action_fc_layer_params,\n",
    "      joint_fc_layer_params=joint_fc_layer_params,\n",
    "      activation_fn=activation_fn,\n",
    "      kernel_initializer=kernel_initializer,\n",
    "      last_kernel_initializer=last_kernel_initializer)\n",
    "\n",
    "# DONT USE AN ACTOR DISTRIBUTION NETWORK FOR DDPG AGENTS\n",
    "# They need a deterministic action output. The actor distribution network is for stochastic policies. (like PPO or SAC)"
   ]
  },
  {
   "cell_type": "markdown",
   "metadata": {},
   "source": [
    "## Code Explanation\n",
    "\n",
    "### 1. Dependencies and Tools\n",
    "\n",
    "```python\n",
    "from tf_agents.agents.ddpg import critic_network\n",
    "```\n",
    "\n",
    "- We import the ``critic_network`` module, a predefined architecture for the Critic in DDPG from TensorFlow Agents.\n",
    "\n",
    "### 2. Actor Network\n",
    "\n",
    "![Actor Network](illustrations/actor_network_transparent.png)\n",
    "\n",
    "The Actor network predicts the best possible action for a given state. Unlike other methods, in DDPG, this prediction is deterministic.\n",
    "\n",
    "### Structure\n",
    "```python\n",
    "class ActorNet(network.Network):\n",
    "```\n",
    "\n",
    "- **Purpose**: Predict the optimal action for a given state.\n",
    "- **Nature**: Deterministic. Always outputs the same action for the same state.\n",
    "- **Architecture**:\n",
    "    - Single fully connected layer (as of now).\n",
    "    - Uses a linear activation function.\n",
    "\n",
    "### Inner Workings\n",
    "\n",
    "- The network gets an observation (state) and processes it through its internal layers.\n",
    "- The output is reshaped to match the expected action's structure.\n",
    "- If necessary, the action values are adjusted (scaled/shifted) to fit within the valid action range.\n",
    "\n",
    "### 3. Critic Network\n",
    "![Critic Network](illustrations/critic_network_transparent.png)\n",
    "\n",
    "The Critic Network, in the context of DDPG, is used to estimate the Q-value of a state-action pair.\n",
    "\n",
    "### Creation\n",
    "```\n",
    "critic_net = critic_network.CriticNetwork(...)\n",
    "```\n",
    "\n",
    "- **Input**: The network takes two inputs – an observation and an action.\n",
    "- **Output**: Outputs a Q-value, estimating the expected return of that action in that state.\n",
    "\n",
    "### Inner Workings\n",
    "\n",
    "- Both the observation and the action are separately processed through their own neural network layers.\n",
    "- The outputs from these separate branches are then combined.\n",
    "- The combined output goes through one or more additional layers to produce the final Q-value estimate.\n",
    "\n",
    "### Architectural Details\n",
    "- **Initialization**: The network weights are initialized using the 'glorot_uniform' method, suitable for most deep learning scenarios.\n",
    "- **Layers and Parameters**:\n",
    "    - Separate layers for processing observations and actions.\n",
    "    - Joint layers to process combined data.\n",
    "    - Activation functions and other layer parameters can be adjusted for fine-tuning.\n",
    "\n",
    "## Key Takeaway\n",
    "It's essential to ensure that the Actor network in DDPG outputs deterministic actions. It should not be confused with other methods where the policy network might output a distribution over actions."
   ]
  },
  {
   "cell_type": "markdown",
   "metadata": {},
   "source": [
    "# Hyperparameters in the above code block\n",
    "(all of these are optional; default values suffice)\n",
    "- `observation_fc_layer_params`\n",
    "- `action_fc_layer_params`\n",
    "- `critic_joint_fc_layer_params`\n",
    "- `activation_fn`\n",
    "- `kernel_initializer`\n",
    "- `last_kernel_initializer`\n",
    "\n",
    "### Hyperparameters Explanation\n",
    "\n",
    "- `observation_fc_layer_params`: Specifies the architecture (e.g., number of layers and their respective sizes) for the fully connected layers that process the observation (or state) input in the critic network.\n",
    "\n",
    "- `action_fc_layer_params`: Dictates the architecture for the fully connected layers handling the action input in the critic network.\n",
    "\n",
    "- `joint_fc_layer_params`: After processing the observation and action separately, their outputs are concatenated. This parameter sets the architecture for the subsequent fully connected layers that process this combined data.\n",
    "\n",
    "- `kernel_initializer`: Determines the method for initializing the weights in the network layers. Proper initialization ensures effective training and convergence. The initializer affects all layers except the last one. ``'glorot_uniform'`` initializes weights randomly based on the number of input and output neurons. \n",
    "\n",
    "- `last_kernel_initializer`: Like the `kernel_initializer`, but specifically for the final layer of the network.\n"
   ]
  },
  {
   "cell_type": "markdown",
   "metadata": {},
   "source": [
    "# Agent"
   ]
  },
  {
   "cell_type": "code",
   "execution_count": 9,
   "metadata": {},
   "outputs": [
    {
     "name": "stderr",
     "output_type": "stream",
     "text": [
      "2023-08-08 16:35:58.644259: I tensorflow/compiler/xla/stream_executor/cuda/cuda_blas.cc:606] TensorFloat-32 will be used for the matrix multiplication. This will only be logged once.\n"
     ]
    }
   ],
   "source": [
    "# Initialize the agent\n",
    "\n",
    "train_step = train_utils.create_train_step()\n",
    "\n",
    "tf_agent = ddpg_agent.DdpgAgent(\n",
    "    time_step_spec,\n",
    "    action_spec,\n",
    "    actor_network=actor_net,\n",
    "    critic_network=critic_net,\n",
    "    actor_optimizer=tf.keras.optimizers.Adam(\n",
    "        learning_rate=actor_learning_rate),\n",
    "    critic_optimizer=tf.keras.optimizers.Adam(\n",
    "        learning_rate=critic_learning_rate),\n",
    "    target_update_tau=target_update_tau,\n",
    "    target_update_period=target_update_period,\n",
    "    td_errors_loss_fn=tf.math.squared_difference,\n",
    "    gamma=gamma,\n",
    "    reward_scale_factor=reward_scale_factor,\n",
    "    train_step_counter=train_step)\n",
    "\n",
    "tf_agent.initialize()"
   ]
  },
  {
   "cell_type": "markdown",
   "metadata": {},
   "source": [
    "## Choice of the right Agent\n",
    "\n",
    "For this project, the DDPG algorithm was chosen. The main reason for this choice is that the DDPG algorithm is a good fit for continuous action spaces.\n",
    "\n",
    "Other algorithms (for continuous action spaces) might be suitable as well. As a reference, the following figure provides an overview of the most common algorithms in reinforcement learning.\n",
    "\n",
    "![RL Algorithms](illustrations/agents_overview_transparent.png)"
   ]
  },
  {
   "cell_type": "markdown",
   "metadata": {},
   "source": [
    "### Code Explanation:\n",
    "\n",
    "1. **Imports**:\n",
    "\n",
    "```python\n",
    "from tf_agents.agents.ddpg import ddpg_agent\n",
    "from tf_agents.train.utils import train_utils\n",
    "```\n",
    "- These lines import necessary modules from TensorFlow's reinforcement learning library, TF-Agents.\n",
    "\n",
    "1. **Training Step Initialization**:\n",
    "```\n",
    "train_step = train_utils.create_train_step()\n",
    "```\n",
    "  - A training step counter is created. This will keep track of how many training iterations (or steps) the agent has undergone. It's especially useful for logging, debugging, and scheduling (e.g., learning rate decay based on steps).\n",
    "\n",
    "1. **Initializing the DDPG Agent**:\n",
    "\n",
    "```\n",
    "tf_agent = ddpg_agent.DdpgAgent(...)\n",
    "```\n",
    "  - This section initializes the DDPG (Deep Deterministic Policy Gradients) agent. The DDPG agent is an RL agent suitable for continuous action spaces.\n",
    "  - Parameters:\n",
    "    - `time_step_spec` & `action_spec`: Specifications ensuring compatibility between the agent's components and the environment.\n",
    "    - `actor_network` & `critic_network`: Pre-defined actor and critic networks.\n",
    "    - `actor_optimizer` & `critic_optimizer`: Optimization algorithms (Adam) for training the actor and critic networks. \n",
    "    - `target_update_tau` & `target_update_period`: Parameters controlling the soft update of target networks.\n",
    "    - `td_errors_loss_fn`: The temporal difference (TD) error loss function. This function measures the difference between the estimated future rewards and the observed reward, using the squared difference.\n",
    "    - `gamma`: Discount factor for future rewards.\n",
    "    - `reward_scale_factor`: A factor to scale the magnitude of rewards.\n",
    "    - `train_step_counter`: Earlier initialized training step counter.\n",
    "\n",
    "1. **Agent Initialization**:\n",
    "\n",
    "`tf_agent.initialize()`\n",
    "  - This line initializes the agent, preparing it for the training process.\n"
   ]
  },
  {
   "cell_type": "markdown",
   "metadata": {},
   "source": [
    "# Hyperparameters in the above code block\n",
    "- `actor_optimizer`\n",
    "  - `actor_learning_rate`\n",
    "- `critic_optimizer`\n",
    "  - `critic_learning_rate`\n",
    "- `target_update_tau`\n",
    "- `target_update_period`\n",
    "- `td_errors_loss_fn`\n",
    "- `gamma`\n",
    "- `reward_scale_factor`"
   ]
  },
  {
   "cell_type": "markdown",
   "metadata": {},
   "source": [
    "### About the Loss in Reinforcement Learning\n",
    "In supervised learning, \"loss\" directly measures the difference between the predicted value and the actual value (e.g., how far off a predicted house price is from the actual price). In reinforcement learning, things are more indirect. The agent receives \"rewards\" from the environment based on actions it takes. Over time, it learns to maximize cumulative rewards.\n",
    "\n",
    "However, to \"learn,\" we typically use neural networks (or other function approximators) that need a scalar \"loss\" to perform optimization (i.e., adjust weights). The \"loss\" in RL is derived from the difference between expected rewards (Q-values from our networks) and the actual received rewards plus expected future rewards. In DDPG and similar algorithms, this is represented as the Temporal Difference (TD) error.\n",
    "\n",
    "This \"loss\" is then backpropagated through the network to adjust the weights, allowing the agent to make better action choices in the future.\n",
    "\n",
    "Overall, while the principles between supervised learning and RL are similar, in RL, the challenge and novelty lie in the fact that the \"correct answer\" (or immediate reward) might lead to sub-optimal long-term outcomes. Thus, the agent must learn to balance immediate and future rewards."
   ]
  },
  {
   "cell_type": "markdown",
   "metadata": {},
   "source": [
    "# Replay Buffer"
   ]
  },
  {
   "cell_type": "code",
   "execution_count": 10,
   "metadata": {},
   "outputs": [
    {
     "name": "stderr",
     "output_type": "stream",
     "text": [
      "[reverb/cc/platform/tfrecord_checkpointer.cc:162]  Initializing TFRecordCheckpointer in /tmp/tmpblobqddf.\n",
      "[reverb/cc/platform/tfrecord_checkpointer.cc:567] Loading latest checkpoint from /tmp/tmpblobqddf\n",
      "[reverb/cc/platform/default/server.cc:71] Started replay server on port 34397\n"
     ]
    }
   ],
   "source": [
    "# Use Reverb, a framework for experience replay developed by DeepMind, to store and sample experience tuples for training.\n",
    "# Using a samples_per_insert somewhere between 2 and 1000. This is a trade-off between the number of samples that can be drawn from the replay buffer and the number of times the replay buffer needs to be updated.\n",
    "rate_limiter=reverb.rate_limiters.SampleToInsertRatio(samples_per_insert=samples_per_insert, min_size_to_sample=min_size_to_sample, error_buffer=error_buffer)\n",
    "\n",
    "table_name = 'uniform_table'\n",
    "\n",
    "table = reverb.Table(\n",
    "    table_name,\n",
    "    max_size=replay_buffer_capacity,\n",
    "    sampler=reverb.selectors.Uniform(),\n",
    "    remover=reverb.selectors.Fifo(),\n",
    "    rate_limiter=rate_limiter)\n",
    "\n",
    "reverb_server = reverb.Server([table])\n",
    "\n",
    "# Since the agent needs N steps of experience to make an update, the dataset will need to sample batches of N steps + 1 to allow the agent to learn from a complete transition.\n",
    "\n",
    "reverb_replay = reverb_replay_buffer.ReverbReplayBuffer(\n",
    "    tf_agent.collect_data_spec,\n",
    "    sequence_length=sequence_length,\n",
    "    table_name=table_name,\n",
    "    local_server=reverb_server)\n",
    "\n",
    "# A dataset is created from the replay buffer to be fed to the agent for training. \n",
    "dataset = reverb_replay.as_dataset(\n",
    "      sample_batch_size=batch_size, num_steps=num_steps).prefetch(num_prefetch)\n",
    "\n",
    "experience_dataset_fn = lambda: dataset"
   ]
  },
  {
   "cell_type": "markdown",
   "metadata": {},
   "source": [
    "# Replay Buffer with Reverb\n",
    "\n",
    "Experience replay is a critical component in many reinforcement learning algorithms, primarily Deep Q-Networks (DQN) and its variants (like DDPG). It helps break the correlation between subsequent state-action-reward transitions, providing a more stable and smoother learning experience. Additionally, it enables the reuse of past experiences, increasing the data efficiency.\n",
    "\n",
    "In the code provided, DeepMind's **Reverb** is employed for experience replay. Reverb is an efficient and easy-to-use system that can be used as a storage for experience. \n",
    "\n",
    "\n",
    "**Reverb Rate Limiter**: `rate_limiter=reverb.rate_limiters.SampleToInsertRatio(...)`\n",
    "- This part of the code controls the rate at which items can be added to the buffer compared to the rate at which items are sampled. It's a mechanism to ensure the replay buffer remains diverse and doesn't get flooded with too many similar experiences in quick succession.\n",
    "- The parameter `samples_per_insert` determines how many samples, on average, will be drawn from the replay buffer for each item that's inserted.\n",
    "\n",
    "**Table Configuration**: \n",
    "- `table_name` simply gives a name to the Reverb table being created.\n",
    "- The `reverb.Table` instance represents where the experiences will be stored.\n",
    "  - `max_size` sets the capacity of the replay buffer.\n",
    "  - The `sampler` defines a strategy for sampling experiences from the buffer. Here, a `Uniform` sampler is used, meaning that all experiences have an equal chance of being sampled.\n",
    "  - The `remover` uses a FIFO (First-In-First-Out) strategy, meaning the oldest experiences will be removed first when the buffer reaches its capacity.\n",
    "  - `rate_limiter` ensures that the sampling and inserting rates adhere to the specified rules.\n",
    "\n",
    "**Reverb Server**: `reverb_server = reverb.Server([table])`\n",
    "  - Reverb functions through a client-server architecture. Here, a server instance is started with the defined table.\n",
    "\n",
    "**Reverb Replay Buffer**: `reverb_replay = reverb_replay_buffer.ReverbReplayBuffer(...)`\n",
    "- This integrates Reverb with the TF-Agents framework. It provides an interface for the agent to interact with the replay buffer.\n",
    "- `sequence_length` determines how many consecutive items will be returned when sampling from the replay buffer. \n",
    "\n",
    "**Dataset Creation**: `dataset = reverb_replay.as_dataset(...)`\n",
    "- This line translates the replay buffer into a TensorFlow dataset. This is crucial because it enables efficient batching and shuffling, and provides an easy-to-useformat to feed to the learning algorithm.\n",
    "- `sample_batch_size` determines how many items (based on `sequence_length`) will be returned in each ``batch``.\n",
    "- `num_steps` determines how many batches will be returned per sampling.\n",
    "- `prefetch(50)` improves training throughput by preparing 50 batches in advance to minimize latency.\n",
    "- The lambda function `experience_dataset_fn` is a simple utility to fetch this dataset, which can be used later for training iterations.\n",
    "\n",
    "\n",
    "In the context of reinforcement learning, using such a buffer allows the agent to learn from a more diverse set of experiences, rather than just the most recent ones, making training more robust and data-efficient."
   ]
  },
  {
   "cell_type": "markdown",
   "metadata": {},
   "source": [
    "# Hyperparameters in the above code block\n",
    "\n",
    "- `samples_per_insert`\n",
    "- `min_size_to_sample`\n",
    "- `error_buffer`\n",
    "- `max_size` = `replay_buffer_capacity`\n",
    "- `sampler` = `reverb.selectors.Uniform()`\n",
    "- `remover` = `reverb.selectors.Fifo()`\n",
    "- `rate_limiter` = `rate_limiter`\n",
    "- `sequence_length`\n",
    "- `sample_batch_size` = `batch_size`\n",
    "- `num_steps`\n",
    "- `Prefetch Value`\n"
   ]
  },
  {
   "cell_type": "markdown",
   "metadata": {},
   "source": [
    "# Difference between ``sequence_length`` and ``num_steps``\n",
    "\n",
    "Understanding the nuances between ``sequence_length`` and ``num_steps`` is essential when working with the Reverb replay system in the TF-Agents framework. These parameters control how data is stored and sampled, respectively.\n",
    "\n",
    "### 1. Data Storage with ``sequence_length``:\n",
    "  - When you set ``sequence_length=5``, the replay buffer will store experiences in chunks of 5 steps.\n",
    "  - Each stored sequence in the buffer will contain these 5 steps.\n",
    "\n",
    "### 2. Data Sampling with ``num_steps``:\n",
    "  - If you try to sample with ``num_steps=3`` from a buffer storing sequences of 5 steps, you can potentially retrieve any 3-step sub-sequence from within the 5-step stored sequences.\n",
    "  - This means you might get steps 1-3, 2-4, or 3-5, depending on the sampler strategy used.\n",
    "  - With a uniform sampler, each possible 3-step sub-sequence has an equal chance of being sampled.\n",
    "\n",
    "**Example Scenario**:\n",
    "\n",
    "Imagine storing experiences in 5-step sequences. If you then try to sample using ``num_steps=6``, you'll likely encounter an error since the buffer does not contain sequences of that length. Conversely, when sampling with ``num_steps=3``, you can extract any contiguous 3-step sequence from the stored 5-step experiences.\n",
    "\n",
    "It's crucial to set these parameters with clarity on their roles:\n",
    "\n",
    "- ``sequence_length`` dictates how experiences are organized in storage.\n",
    "- ``num_steps`` influences the way you sample from these stored experiences."
   ]
  },
  {
   "cell_type": "markdown",
   "metadata": {},
   "source": [
    "# Policies"
   ]
  },
  {
   "cell_type": "code",
   "execution_count": 11,
   "metadata": {},
   "outputs": [],
   "source": [
    "# Policies\n",
    "# Create policies from the agent\n",
    "\n",
    "tf_eval_policy = tf_agent.policy\n",
    "eval_policy = py_tf_eager_policy.PyTFEagerPolicy(\n",
    "  tf_eval_policy, use_tf_function=True)\n",
    "\n",
    "tf_collect_policy = tf_agent.collect_policy\n",
    "collect_policy = py_tf_eager_policy.PyTFEagerPolicy(\n",
    "  tf_collect_policy, use_tf_function=True)\n",
    "\n",
    "# Random policy to sample from the environment\n",
    "random_policy = random_py_policy.RandomPyPolicy(\n",
    "  collect_env.time_step_spec(), collect_env.action_spec())"
   ]
  },
  {
   "cell_type": "markdown",
   "metadata": {},
   "source": [
    "# Policies Summary\n",
    "\n",
    "In the above code block, three distinct policies are created:\n",
    "\n",
    "### 1. **Evaluation Policy (`eval_policy`):**\n",
    "   - Extracted from the DDPG agent's internal evaluation policy (`tf_eval_policy`).\n",
    "   - This policy is wrapped using `PyTFEagerPolicy`, which facilitates policy execution in TensorFlow's eager mode. Eager mode allows for more intuitive imperative execution, improving debugging and making the code more readable.\n",
    "\n",
    "### 2. **Collection Policy (`collect_policy`):**\n",
    "   - Derived from the DDPG agent's internal collection policy (`tf_collect_policy`).\n",
    "   - Like the evaluation policy, this is also wrapped using `PyTFEagerPolicy`.\n",
    "   - Notably, the exploration-exploitation trade-off inherent in this policy is already predefined within the DDPG agent's implementation. The wrapping into an eager policy does not modify these exploration aspects.\n",
    "\n",
    "### 3. **Random Policy (`random_policy`):**\n",
    "   - An entirely random policy that samples actions based on the environment's action specification.\n",
    "   - Primarily used to initialize data collection, ensuring a diverse set of experiences at the start of training.\n",
    "\n",
    "It's essential to recognize that the `PyTFEagerPolicy` wrapper serves primarily to enable eager execution and does not dictate or alter the exploration strategy of the underlying policy. That behavior is ingrained in the DDPG agent's implementation itself.\n"
   ]
  },
  {
   "cell_type": "markdown",
   "metadata": {},
   "source": [
    "# Actors"
   ]
  },
  {
   "cell_type": "code",
   "execution_count": 12,
   "metadata": {},
   "outputs": [
    {
     "name": "stdout",
     "output_type": "stream",
     "text": [
      "Initial collector step 2 of 2                    \r"
     ]
    }
   ],
   "source": [
    "tempdir = tempfile.gettempdir()\n",
    "\n",
    "# Custom observer that counts and logs the number of times it is called.\n",
    "class ProgressObserver:\n",
    "    def __init__(self, total_steps, log_every=1):\n",
    "        self.total_steps = total_steps\n",
    "        self.log_every = log_every\n",
    "        self.current_step = 0\n",
    "\n",
    "    def __call__(self, trajectory):\n",
    "        self.current_step += 1\n",
    "        if self.current_step % self.log_every == 0:\n",
    "            print(f\"Initial collector step {self.current_step} of {self.total_steps}                    \\r\", end=\"\")\n",
    "\n",
    "progress_observer = ProgressObserver(total_steps=initial_collect_steps)\n",
    "\n",
    "# As the Actors run data collection steps, they pass trajectories of (state, action, reward) to the observer, which caches and writes them to the Reverb replay system.\n",
    "\n",
    "rb_observer = reverb_utils.ReverbAddTrajectoryObserver(\n",
    "  reverb_replay.py_client,\n",
    "  table_name,\n",
    "  sequence_length=observer_sequence_length,\n",
    "  stride_length=observer_stride_length)\n",
    "\n",
    "# We create an Actor with the random policy and collect experiences to seed the replay buffer with.\n",
    "initial_collect_actor = actor.Actor(\n",
    "  collect_env,\n",
    "  random_policy,\n",
    "  train_step,\n",
    "  steps_per_run=initial_collect_steps,\n",
    "  observers=[rb_observer, progress_observer])\n",
    "\n",
    "initial_collect_actor.run()\n",
    "\n",
    "# Instantiate an Actor with the collect policy to gather more experiences during training.\n",
    "env_step_metric = py_metrics.EnvironmentSteps()\n",
    "\n",
    "collect_actor = actor.Actor(\n",
    "  collect_env,\n",
    "  collect_policy,\n",
    "  train_step,\n",
    "  steps_per_run=collector_steps_per_run,\n",
    "  metrics=actor.collect_metrics(10),\n",
    "  summary_dir=os.path.join(tempdir, learner.TRAIN_DIR),\n",
    "  observers=[rb_observer, env_step_metric])\n",
    "\n",
    "# Create an Actor which will be used to evaluate the policy during training.\n",
    "# actor.eval_metrics(num_eval_episodes) to log metrics later.\n",
    "eval_actor = actor.Actor(\n",
    "  eval_env,\n",
    "  eval_policy,\n",
    "  train_step,\n",
    "  episodes_per_run=eval_episodes_per_run,\n",
    "  metrics=actor.eval_metrics(eval_episodes_per_run),\n",
    "  summary_dir=os.path.join(tempdir, 'eval'),\n",
    ")"
   ]
  },
  {
   "cell_type": "markdown",
   "metadata": {},
   "source": [
    "# Actors & Observer Summary\n",
    "\n",
    "The provided code demonstrates the creation of actors and an observer in the context of the DDPG agent and Reverb replay system.\n",
    "\n",
    "### 1. **Temporary Directory (`tempdir`):**\n",
    "   - A directory path is acquired to temporarily store relevant information, such as metrics summaries.\n",
    "\n",
    "### 2. **Reverb Observer (`rb_observer`):**\n",
    "   - An instance of `ReverbAddTrajectoryObserver` is created.\n",
    "   - As actors interact with their environments, they generate trajectories, which are sequences of (state, action, reward).\n",
    "   - The observer's role is to cache these trajectories and write them into the Reverb replay system for future training.\n",
    "   - It's set up to observe trajectories with a specified `sequence_length` and `stride_length`.\n",
    "\n",
    "### 3. **Initial Collection Actor (`initial_collect_actor`):**\n",
    "   - This actor uses the `random_policy`.\n",
    "   - Its purpose is to interact with the environment and generate initial experiences. These are important for seeding the replay buffer, ensuring a diverse starting point for training.\n",
    "   - After creation, the actor immediately starts running, thereby populating the replay buffer.\n",
    "   - The generated trajectories are observed by the `rb_observer`.\n",
    "\n",
    "### 4. **Training Collection Actor (`collect_actor`):**\n",
    "   - Unlike the initial actor, this one employs the `collect_policy`.\n",
    "   - It's designed to gather more refined experiences during training, as the agent learns and improves.\n",
    "   - In addition to the `rb_observer`, this actor also updates an `env_step_metric`, which counts the environment steps taken. This can be useful for monitoring and diagnostics.\n",
    "   - The summary of metrics related to data collection is stored in a directory specified by `os.path.join(tempdir, learner.TRAIN_DIR)`.\n",
    "\n",
    "### 5. **Evaluation Actor (`eval_actor`):**\n",
    "   - This actor uses the `eval_policy` and interacts with the evaluation environment (`eval_env`).\n",
    "   - Its main purpose is to periodically assess the performance of the agent's policy during training.\n",
    "   - Metrics related to evaluation (like average return over episodes) are logged and can be analyzed to monitor the agent's progress.\n",
    "   - The summary of these evaluation metrics is stored in a directory specified by `os.path.join(tempdir, 'eval')`.\n",
    "\n",
    "In essence, the actors are agents that interact with environments and generate experiences. The observer's role is to monitor these experiences and store them appropriately for training. Together, they ensure a seamless flow of information, enabling the agent to learn effectively from its interactions.\n"
   ]
  },
  {
   "cell_type": "markdown",
   "metadata": {},
   "source": [
    "# Hyperparameters in the above code block\n",
    "- ``observer_sequence_length``\n",
    "- ``observer_stride_length``\n",
    "- ``initial_collect_steps``\n",
    "- ``collector_steps_per_run``\n",
    "- ``eval_episodes_per_run``"
   ]
  },
  {
   "cell_type": "markdown",
   "metadata": {},
   "source": [
    "# Learner"
   ]
  },
  {
   "cell_type": "code",
   "execution_count": 13,
   "metadata": {},
   "outputs": [
    {
     "name": "stderr",
     "output_type": "stream",
     "text": [
      "WARNING:absl:WARNING: Could not serialize policy.distribution() for policy \"<tf_agents.policies.ou_noise_policy.OUNoisePolicy object at 0x7f52131c6ad0>\". Calling saved_model.distribution() will raise the following assertion error: Distributions are not implemented yet.\n",
      "[reverb/cc/client.cc:165] Sampler and server are owned by the same process (26518) so Table uniform_table is accessed directly without gRPC.\n"
     ]
    }
   ],
   "source": [
    "# Learners\n",
    "# The Learner component contains the agent and performs gradient step updates to the policy variables using experience data from the replay buffer.\n",
    "# After one or more training steps, the Learner can push a new set of variable values to the variable container.\n",
    "\n",
    "saved_model_dir = os.path.join(tempdir, learner.POLICY_SAVED_MODEL_DIR)\n",
    "\n",
    "# Triggers to save the agent's policy checkpoints.\n",
    "learning_triggers = [\n",
    "    triggers.PolicySavedModelTrigger(\n",
    "        saved_model_dir,\n",
    "        tf_agent,\n",
    "        train_step,\n",
    "        interval=policy_save_interval),\n",
    "    triggers.StepPerSecondLogTrigger(train_step, interval=1000)\n",
    "]\n",
    "\n",
    "# A strategy can be used here. The predefined strategy would be passed to the learner.\n",
    "agent_learner = learner.Learner(\n",
    "  tempdir,\n",
    "  train_step,\n",
    "  tf_agent,\n",
    "  experience_dataset_fn,\n",
    "  triggers=learning_triggers)"
   ]
  },
  {
   "cell_type": "markdown",
   "metadata": {},
   "source": [
    "# Learner & Triggers Summary\n",
    "\n",
    "This segment focuses on the creation and configuration of the `Learner` component within the DDPG training process.\n",
    "\n",
    "### 1. **Learner Introduction:**\n",
    "   - The `Learner` component is central to the training process. It encapsulates the agent and is responsible for executing gradient updates on the policy's parameters using experiences sourced from the replay buffer.\n",
    "   - Post-training (after one or multiple steps), the `Learner` has the capability to update the set of variables within a designated container.\n",
    "\n",
    "### 2. **Model Save Directory (`saved_model_dir`):**\n",
    "   - A specific directory path is designated to save the policy's model. This is set as a sub-directory (`POLICY_SAVED_MODEL_DIR`) within the temporary directory (`tempdir`).\n",
    "\n",
    "### 3. **Triggers (`learning_triggers`):**\n",
    "   - Triggers are mechanisms to automate certain actions during the training process.\n",
    "   - Two triggers are set up:\n",
    "     - `PolicySavedModelTrigger`: This saves the agent's policy checkpoints at specified intervals (`policy_save_interval`). These checkpoints capture the policy's state, allowing for later resumption or analysis.\n",
    "     - `StepPerSecondLogTrigger`: Designed to log training information, specifically how many training steps are executed per second. The logging occurs every 1000 steps.\n",
    "\n",
    "### 4. **Instantiating the Learner (`agent_learner`):**\n",
    "   - The `Learner` object is initialized with various configurations:\n",
    "     - The temporary directory (`tempdir`), which serves as a location to save intermediate data.\n",
    "     - The current training step (`train_step`), which keeps track of the progress.\n",
    "     - The agent itself (`tf_agent`), which contains the policy and value network.\n",
    "     - A function (`experience_dataset_fn`) that supplies experiences from the replay buffer.\n",
    "     - The predefined triggers (`learning_triggers`) to automate specific tasks during training.\n",
    "\n",
    "Together, the `Learner` and associated triggers ensure that the agent's policy is continually updated and refined using the stored experiences, while simultaneously maintaining checkpoints and logs for monitoring and potential resumption of training.\n"
   ]
  },
  {
   "cell_type": "markdown",
   "metadata": {},
   "source": [
    "# Hyperparameters in the above code block\n",
    "- ``policy_save_interval``"
   ]
  },
  {
   "cell_type": "markdown",
   "metadata": {},
   "source": [
    "# Metrics and Evaluation"
   ]
  },
  {
   "cell_type": "code",
   "execution_count": 14,
   "metadata": {},
   "outputs": [
    {
     "name": "stdout",
     "output_type": "stream",
     "text": [
      "step = 0: AverageReturn = -0.000000, AverageEpisodeLength = 99.000000\n"
     ]
    }
   ],
   "source": [
    "\"\"\"\n",
    "We instantiated the eval Actor with actor.eval_metrics above, which creates most commonly used metrics during policy evaluation:\n",
    "\n",
    "- Average return. The return is the sum of rewards obtained while running a policy in an environment for an episode, and we usually average this over a few episodes.\n",
    "- Average episode length.\n",
    "\n",
    "We run the Actor to generate these metrics.\n",
    "\"\"\"\n",
    "\n",
    "def get_eval_metrics():\n",
    "  eval_actor.run()\n",
    "  results = {}\n",
    "  for metric in eval_actor.metrics:\n",
    "    results[metric.name] = metric.result()\n",
    "  return results\n",
    "\n",
    "metrics = get_eval_metrics()\n",
    "\n",
    "def log_eval_metrics(step, metrics):\n",
    "  eval_results = (', ').join(\n",
    "      '{} = {:.6f}'.format(name, result) for name, result in metrics.items())\n",
    "  print('step = {0}: {1}'.format(step, eval_results))\n",
    "\n",
    "log_eval_metrics(0, metrics)"
   ]
  },
  {
   "cell_type": "markdown",
   "metadata": {},
   "source": [
    "# Evaluation Metrics Summary\n",
    "\n",
    "In the above segment, the focus is on generating and logging key evaluation metrics during the policy's performance assessment.\n",
    "\n",
    "### 1. **Introduction to Eval Actor Metrics:**\n",
    "   - The `eval_actor` was previously instantiated using `actor.eval_metrics`. This procedure automatically includes some commonly used metrics to evaluate the efficacy of the policy:\n",
    "     - **Average Return**: It signifies the average sum of rewards accumulated while the policy operates within an environment over multiple episodes.\n",
    "     - **Average Episode Length**: This measures the average duration of an episode, indicating how long the agent persists in the environment before reaching a terminal state.\n",
    "\n",
    "### 2. **Metric Generation (`get_eval_metrics` function):**\n",
    "   - The `eval_actor` runs to generate the aforementioned metrics.\n",
    "   - A ``dictionary`` named `results` is populated with metric names as keys and their corresponding outcomes as values.\n",
    "\n",
    "### 3. **Logging Metrics (`log_eval_metrics` function):**\n",
    "   - Designed for a clear and structured display of the evaluation metrics.\n",
    "   - The metrics are formatted as a string and then printed alongside the current training step, offering insights into the policy's performance at different stages of training.\n",
    "\n",
    "### 4. **Executing Metric Collection and Logging:**\n",
    "   - The `get_eval_metrics` function is invoked to obtain the evaluation metrics.\n",
    "   - Using the `log_eval_metrics` function, these metrics are subsequently printed for the training step `0`.\n",
    "\n",
    "Overall, these functions enable consistent monitoring of the policy's performance, ensuring that potential issues or areas of improvement are swiftly identified.\n"
   ]
  },
  {
   "cell_type": "markdown",
   "metadata": {},
   "source": [
    "# Training the agent"
   ]
  },
  {
   "cell_type": "code",
   "execution_count": 15,
   "metadata": {},
   "outputs": [
    {
     "name": "stderr",
     "output_type": "stream",
     "text": [
      "2023-08-08 16:36:00.295954: I tensorflow/compiler/xla/service/service.cc:168] XLA service 0x7f5074020fc0 initialized for platform CUDA (this does not guarantee that XLA will be used). Devices:\n",
      "2023-08-08 16:36:00.295979: I tensorflow/compiler/xla/service/service.cc:176]   StreamExecutor device (0): NVIDIA GeForce RTX 4070 Ti, Compute Capability 8.9\n",
      "2023-08-08 16:36:00.299095: I tensorflow/compiler/mlir/tensorflow/utils/dump_mlir_util.cc:255] disabling MLIR crash reproducer, set env var `MLIR_CRASH_REPRODUCER_DIRECTORY` to enable.\n",
      "2023-08-08 16:36:00.420263: I tensorflow/compiler/xla/stream_executor/cuda/cuda_dnn.cc:432] Loaded cuDNN version 8600\n",
      "2023-08-08 16:36:00.484026: I ./tensorflow/compiler/jit/device_compiler.h:186] Compiled cluster using XLA!  This line is logged at most once for the lifetime of the process.\n"
     ]
    },
    {
     "name": "stdout",
     "output_type": "stream",
     "text": [
      "step = 10: AverageReturn = 2.285831, AverageEpisodeLength = 98.000000\n",
      "step = 10: loss = 0.029550224542617798\n",
      "step = 20: AverageReturn = 2.711709, AverageEpisodeLength = 98.000000\n",
      "step = 20: loss = 0.018632221966981888\n",
      "step = 30: AverageReturn = 2.882915, AverageEpisodeLength = 98.000000\n",
      "step = 30: loss = 0.022069504484534264\n",
      "step = 40: AverageReturn = 2.917303, AverageEpisodeLength = 98.000000\n",
      "step = 40: loss = 0.012488390319049358\n",
      "step = 50: AverageReturn = 2.936764, AverageEpisodeLength = 98.000000\n",
      "step = 50: loss = 0.002755116205662489\n",
      "step = 60: AverageReturn = 2.945086, AverageEpisodeLength = 98.000000\n",
      "step = 60: loss = 0.0008618539432063699\n",
      "step = 70: AverageReturn = 2.945858, AverageEpisodeLength = 98.000000\n",
      "step = 70: loss = 0.0041861766949296\n",
      "step = 80: AverageReturn = 2.945858, AverageEpisodeLength = 98.000000\n",
      "step = 80: loss = 0.005091051105409861\n",
      "step = 90: AverageReturn = 2.945858, AverageEpisodeLength = 98.000000\n",
      "step = 90: loss = 0.0005088158068247139\n",
      "Training completed. Closing the observer... Closed.\n",
      "Stopping the reverb server... stopped.\n"
     ]
    },
    {
     "name": "stderr",
     "output_type": "stream",
     "text": [
      "[reverb/cc/platform/default/server.cc:84] Shutting down replay server\n"
     ]
    }
   ],
   "source": [
    "# The training loop involves both collecting data from the environment and optimizing the agent's networks.\n",
    "# Along the way, we will occasionally evaluate the agent's policy to see how we are doing.\n",
    "\n",
    "# Reset the train step\n",
    "tf_agent.train_step_counter.assign(0)\n",
    "\n",
    "# Evaluate the agent's policy once before training.\n",
    "avg_return = get_eval_metrics()[\"AverageReturn\"]\n",
    "returns = [avg_return]\n",
    "losses = [0]\n",
    "\n",
    "for _ in range(num_iterations):\n",
    "  # Training.\n",
    "  # Collect a few steps using collect_policy and save to the replay buffer.\n",
    "  collect_actor.run()\n",
    "  # Sample a batch of data from the buffer and update the agent's network.\n",
    "  loss_info = agent_learner.run(iterations=iterations_per_call)\n",
    "\n",
    "  # Evaluating.\n",
    "  step = agent_learner.train_step_numpy\n",
    "\n",
    "  if eval_interval and step % eval_interval == 0:\n",
    "    metrics = get_eval_metrics()\n",
    "    log_eval_metrics(step, metrics)\n",
    "    returns.append(metrics[\"AverageReturn\"])\n",
    "    losses.append(loss_info.loss.numpy())\n",
    "    \n",
    "\n",
    "  if log_interval and step % log_interval == 0:\n",
    "    print('step = {0}: loss = {1}'.format(step, loss_info.loss.numpy()))\n",
    "\n",
    "time.sleep(1)  # Give the last metrics log a second to flush.\n",
    "print(\"Training completed. Closing the observer... \", end=\"\")\n",
    "# rb_observer.close()\n",
    "print(\"Closed.\")\n",
    "time.sleep(1)  # Give the observer a second to flush.\n",
    "print(\"Stopping the reverb server... \", end=\"\")\n",
    "reverb_server.stop()\n",
    "print(\"stopped.\")"
   ]
  },
  {
   "cell_type": "markdown",
   "metadata": {},
   "source": [
    "# Training Loop Summary\n",
    "\n",
    "This segment highlights the core procedure: executing the training loop, which involves collecting data, training the agent, and periodically evaluating its performance.\n",
    "\n",
    "### 1. **Initial Setup:**\n",
    "   - The agent's `train_step_counter` is reset to zero, ensuring that training begins afresh.\n",
    "   - The agent's policy is evaluated before the training begins to provide a baseline. The initial average return value is obtained and stored.\n",
    "\n",
    "### 2. **Main Training Loop (`for _ in range(num_iterations)`):**\n",
    "   - For each iteration in the training loop:\n",
    "     - **Data Collection**: The `collect_actor` runs, utilizing the `collect_policy` to gather experiences from the environment. These experiences are stored in the replay buffer.\n",
    "     - **Network Training**: A batch of experiences is sampled from the replay buffer, and the agent's networks (Actor and Critic) are updated. The resultant loss information from this update is captured.\n",
    "\n",
    "### 3. **Periodic Evaluation and Logging:**\n",
    "   - The current training step is fetched.\n",
    "   - If the step aligns with the defined `eval_interval`, the following actions take place:\n",
    "     - The agent's policy is evaluated using `get_eval_metrics`.\n",
    "     - These metrics are logged, and the average return value is added to the `returns` list.\n",
    "     - The loss value from the most recent network update is also recorded in the `losses` list.\n",
    "   - If the step matches the `log_interval`, the loss is printed, providing periodic insight into the agent's training progression.\n",
    "\n",
    "### 4. **Closing Procedures:**\n",
    "   - The `rb_observer` is closed, ensuring that no further experiences are added to the replay buffer.\n",
    "   - The `reverb_server` (associated with the replay buffer) is also stopped, marking the end of the training process.\n",
    "\n",
    "In essence, this segment captures the cyclical process of collecting experiences, training the agent on these experiences, and periodic evaluations to assess the agent's proficiency.\n"
   ]
  },
  {
   "cell_type": "markdown",
   "metadata": {},
   "source": [
    "# Hyperparameters in the above code block\n",
    "- ``num_iterations``\n",
    "- ``iterations_per_call``\n",
    "- ``eval_interval``\n",
    "- ``log_interval``"
   ]
  },
  {
   "cell_type": "markdown",
   "metadata": {},
   "source": [
    "# Plot the results"
   ]
  },
  {
   "cell_type": "code",
   "execution_count": 16,
   "metadata": {},
   "outputs": [
    {
     "data": {
      "text/plain": [
       "(1.8034533083438873, 3.0002582252025602)"
      ]
     },
     "execution_count": 16,
     "metadata": {},
     "output_type": "execute_result"
    },
    {
     "data": {
      "image/png": "[encoded data removed]",
      "text/plain": [
       "<Figure size 640x480 with 1 Axes>"
      ]
     },
     "metadata": {},
     "output_type": "display_data"
    }
   ],
   "source": [
    "steps = range(0, num_iterations + 1, eval_interval)\n",
    "plt.plot(steps, returns)\n",
    "plt.ylabel('Average Return')\n",
    "plt.xlabel('Step')\n",
    "plt.grid()\n",
    "plt.ylim()"
   ]
  },
  {
   "cell_type": "code",
   "execution_count": 18,
   "metadata": {},
   "outputs": [
    {
     "data": {
      "text/plain": [
       "(-0.0009432546299649404, 0.03100229497940745)"
      ]
     },
     "execution_count": 18,
     "metadata": {},
     "output_type": "execute_result"
    },
    {
     "data": {
      "image/png": "[encoded data removed]",
      "text/plain": [
       "<Figure size 640x480 with 1 Axes>"
      ]
     },
     "metadata": {},
     "output_type": "display_data"
    }
   ],
   "source": [
    "steps = range(0, num_iterations + 1, eval_interval)\n",
    "plt.plot(steps[1:], losses[1:])\n",
    "plt.ylabel('Loss')\n",
    "plt.xlabel('Step')\n",
    "plt.grid()\n",
    "plt.ylim()"
   ]
  },
  {
   "cell_type": "code",
   "execution_count": null,
   "metadata": {},
   "outputs": [],
   "source": []
  }
 ],
 "metadata": {
  "kernelspec": {
   "display_name": "Python 3 (ipykernel)",
   "language": "python",
   "name": "python3"
  },
  "language_info": {
   "codemirror_mode": {
    "name": "ipython",
    "version": 3
   },
   "file_extension": ".py",
   "mimetype": "text/x-python",
   "name": "python",
   "nbconvert_exporter": "python",
   "pygments_lexer": "ipython3",
   "version": "3.10.12"
  }
 },
 "nbformat": 4,
 "nbformat_minor": 2
}
