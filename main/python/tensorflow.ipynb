{
 "cells": [
  {
   "cell_type": "code",
   "execution_count": 1,
   "metadata": {},
   "outputs": [
    {
     "name": "stderr",
     "output_type": "stream",
     "text": [
      "2023-07-14 17:28:42.569146: I tensorflow/core/platform/cpu_feature_guard.cc:182] This TensorFlow binary is optimized to use available CPU instructions in performance-critical operations.\n",
      "To enable the following instructions: SSE4.1 SSE4.2 AVX AVX2 AVX_VNNI FMA, in other operations, rebuild TensorFlow with the appropriate compiler flags.\n",
      "/home/renlephy/miniconda3/envs/BAtensorflow/lib/python3.10/site-packages/numpy/core/getlimits.py:500: UserWarning: The value of the smallest subnormal for <class 'numpy.float32'> type is zero.\n",
      "  setattr(self, word, getattr(machar, word).flat[0])\n",
      "/home/renlephy/miniconda3/envs/BAtensorflow/lib/python3.10/site-packages/numpy/core/getlimits.py:89: UserWarning: The value of the smallest subnormal for <class 'numpy.float32'> type is zero.\n",
      "  return self._float_to_str(self.smallest_subnormal)\n",
      "/home/renlephy/miniconda3/envs/BAtensorflow/lib/python3.10/site-packages/numpy/core/getlimits.py:500: UserWarning: The value of the smallest subnormal for <class 'numpy.float64'> type is zero.\n",
      "  setattr(self, word, getattr(machar, word).flat[0])\n",
      "/home/renlephy/miniconda3/envs/BAtensorflow/lib/python3.10/site-packages/numpy/core/getlimits.py:89: UserWarning: The value of the smallest subnormal for <class 'numpy.float64'> type is zero.\n",
      "  return self._float_to_str(self.smallest_subnormal)\n"
     ]
    },
    {
     "name": "stdout",
     "output_type": "stream",
     "text": [
      "100\n"
     ]
    },
    {
     "name": "stderr",
     "output_type": "stream",
     "text": [
      "2023-07-14 17:28:43.310232: I tensorflow/core/common_runtime/process_util.cc:146] Creating new thread pool with default inter op setting: 2. Tune using inter_op_parallelism_threads for best performance.\n"
     ]
    }
   ],
   "source": [
    "from Solver import Particle, Perceptron, PerceptronModel, VicsekModel, NeuralNetwork, PerceptronMode, Mode, NeuralSwarmModel\n",
    "\n",
    "import tensorflow as tf\n",
    "import numpy as np\n",
    "\n",
    "# Neural network model\n",
    "# ::::::::::::::::::::::::::::::::::::::::::::::::\n",
    "class ReinforcementModel(tf.keras.Model):\n",
    "    def __init__(self):\n",
    "        super(ReinforcementModel, self).__init__()\n",
    "        self.input_layer = tf.keras.Input(shape=(10,))  # 5 pairs of (sin, cos) values\n",
    "        # Input layer\n",
    "        self.dense1 = tf.keras.layers.Dense(5, activation='linear')\n",
    "        self.dense2 = tf.keras.layers.Dense(5, activation='linear')\n",
    "        # Output layer\n",
    "        self.out_sin = tf.keras.layers.Dense(1, activation='linear')\n",
    "        self.out_cos = tf.keras.layers.Dense(1, activation='linear')\n",
    "\n",
    "    def call(self, inputsCos, inputsSin):\n",
    "        x = self.dense1(inputsCos)\n",
    "        y = self.dense2(inputsSin)\n",
    "        out_cos = self.out_cos(x)\n",
    "        out_sin = self.out_sin(y)\n",
    "        return out_sin, out_cos\n",
    "\n",
    "    def get_angle(self, out_sin, out_cos):\n",
    "        # Calculate angle from sin and cos output of the model (in radians) and return it in the range [0, 2pi]\n",
    "        angle = np.arctan2(out_sin, out_cos)\n",
    "        angle = (angle + 2 * np.pi) % (2 * np.pi)\n",
    "        return angle\n",
    "\n",
    "# ::::::::::::::::::::::::::::::::::::::::::::::::\n",
    "\n",
    "NN = ReinforcementModel()\n",
    "\n",
    "# Simulation settings\n",
    "settings = {\n",
    "        #                  N,      L,      v,      noise,  r\n",
    "        \"XXsmall\": [       5,      4,      0.03,   0.1,    1],\n",
    "        \"Xsmall\": [        20,     6,      0.03,   0.1,    1],\n",
    "        \"small\": [         100,    30,     0.03,   0.1,    1],\n",
    "        \"a\": [             300,    7,      0.03,   2.0,    1],\n",
    "        \"b\": [             300,    25,     0.03,   0.5,    1],\n",
    "        \"d\": [             300,    5,      0.03,   0.1,    1],\n",
    "        \"plot1_N40\": [     40,     3.1,    0.03,   0.1,    1],\n",
    "        \"large\": [         2000,   60,     0.03,   0.3,    1]\n",
    "    }\n",
    "    \n",
    "# Choose between RADIUS, FIXED, FIXEDRADIUS\n",
    "mode = Mode.FIXEDRADIUS\n",
    "# Flags\n",
    "ZDimension = False     # 2D or 3D\n",
    "# Duration of simulation\n",
    "timesteps = 5000\n",
    "# Choose settings\n",
    "chosen_settings = settings[\"small\"]\n",
    "N       = chosen_settings[0]\n",
    "L       = chosen_settings[1]\n",
    "v       = chosen_settings[2]\n",
    "noise   = chosen_settings[3]\n",
    "r       = chosen_settings[4]\n",
    "k_neighbors = 5\n",
    "\n",
    "# Create model\n",
    "model = NeuralSwarmModel(N, L, v, noise, r, mode, k_neighbors, ZDimension, seed=True)\n",
    "\n",
    "# Contains all neighbor lists for all particles\n",
    "AllNeighborsParticles = model.get_all_neighbors()\n",
    "\n",
    "print(len(AllNeighborsParticles))\n"
   ]
  }
 ],
 "metadata": {
  "kernelspec": {
   "display_name": "bachelor",
   "language": "python",
   "name": "python3"
  },
  "language_info": {
   "codemirror_mode": {
    "name": "ipython",
    "version": 3
   },
   "file_extension": ".py",
   "mimetype": "text/x-python",
   "name": "python",
   "nbconvert_exporter": "python",
   "pygments_lexer": "ipython3",
   "version": "3.10.12"
  },
  "orig_nbformat": 4
 },
 "nbformat": 4,
 "nbformat_minor": 2
}
