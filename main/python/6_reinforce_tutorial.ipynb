{
  "cells": [
    {
      "cell_type": "markdown",
      "metadata": {
        "id": "klGNgWREsvQv"
      },
      "source": [
        "##### Copyright 2023 The TF-Agents Authors."
      ]
    },
    {
      "cell_type": "code",
      "execution_count": 1,
      "metadata": {
        "cellView": "form",
        "id": "nQnmcm0oI1Q-"
      },
      "outputs": [],
      "source": [
        "#@title Licensed under the Apache License, Version 2.0 (the \"License\");\n",
        "# you may not use this file except in compliance with the License.\n",
        "# You may obtain a copy of the License at\n",
        "#\n",
        "# https://www.apache.org/licenses/LICENSE-2.0\n",
        "#\n",
        "# Unless required by applicable law or agreed to in writing, software\n",
        "# distributed under the License is distributed on an \"AS IS\" BASIS,\n",
        "# WITHOUT WARRANTIES OR CONDITIONS OF ANY KIND, either express or implied.\n",
        "# See the License for the specific language governing permissions and\n",
        "# limitations under the License."
      ]
    },
    {
      "cell_type": "markdown",
      "metadata": {
        "id": "HNtBC6Bbb1YU"
      },
      "source": [
        "# REINFORCE agent\n",
        "\n",
        "<table class=\"tfo-notebook-buttons\" align=\"left\">\n",
        "  <td>\n",
        "    <a target=\"_blank\" href=\"https://www.tensorflow.org/agents/tutorials/6_reinforce_tutorial\">\n",
        "    <img src=\"https://www.tensorflow.org/images/tf_logo_32px.png\" />\n",
        "    View on TensorFlow.org</a>\n",
        "  </td>\n",
        "  <td>\n",
        "    <a target=\"_blank\" href=\"https://colab.research.google.com/github/tensorflow/agents/blob/master/docs/tutorials/6_reinforce_tutorial.ipynb\">\n",
        "    <img src=\"https://www.tensorflow.org/images/colab_logo_32px.png\" />\n",
        "    Run in Google Colab</a>\n",
        "  </td>\n",
        "  <td>\n",
        "    <a target=\"_blank\" href=\"https://github.com/tensorflow/agents/blob/master/docs/tutorials/6_reinforce_tutorial.ipynb\">\n",
        "    <img src=\"https://www.tensorflow.org/images/GitHub-Mark-32px.png\" />\n",
        "    View source on GitHub</a>\n",
        "  </td>\n",
        "  <td>\n",
        "    <a href=\"https://storage.googleapis.com/tensorflow_docs/agents/docs/tutorials/6_reinforce_tutorial.ipynb\"><img src=\"https://www.tensorflow.org/images/download_logo_32px.png\" />Download notebook</a>\n",
        "  </td>\n",
        "</table>"
      ]
    },
    {
      "cell_type": "markdown",
      "metadata": {
        "id": "ZOUOQOrFs3zn"
      },
      "source": [
        "## Introduction"
      ]
    },
    {
      "cell_type": "markdown",
      "metadata": {
        "id": "cKOCZlhUgXVK"
      },
      "source": [
        "This example shows how to train a [REINFORCE](https://www-anw.cs.umass.edu/~barto/courses/cs687/williams92simple.pdf) agent on the Cartpole environment using the TF-Agents library, similar to the [DQN tutorial](1_dqn_tutorial.ipynb).\n",
        "\n",
        "![Cartpole environment](images/cartpole.png)\n",
        "\n",
        "We will walk you through all the components in a Reinforcement Learning (RL) pipeline for training, evaluation and data collection.\n"
      ]
    },
    {
      "cell_type": "markdown",
      "metadata": {
        "id": "1u9QVVsShC9X"
      },
      "source": [
        "## Setup"
      ]
    },
    {
      "cell_type": "code",
      "execution_count": 2,
      "metadata": {
        "id": "sMitx5qSgJk1"
      },
      "outputs": [
        {
          "name": "stderr",
          "output_type": "stream",
          "text": [
            "2023-07-17 13:31:35.076596: I tensorflow/core/util/port.cc:110] oneDNN custom operations are on. You may see slightly different numerical results due to floating-point round-off errors from different computation orders. To turn them off, set the environment variable `TF_ENABLE_ONEDNN_OPTS=0`.\n",
            "2023-07-17 13:31:35.100110: I tensorflow/core/platform/cpu_feature_guard.cc:182] This TensorFlow binary is optimized to use available CPU instructions in performance-critical operations.\n",
            "To enable the following instructions: AVX2 AVX_VNNI FMA, in other operations, rebuild TensorFlow with the appropriate compiler flags.\n",
            "2023-07-17 13:31:35.437976: W tensorflow/compiler/tf2tensorrt/utils/py_utils.cc:38] TF-TRT Warning: Could not find TensorRT\n"
          ]
        },
        {
          "ename": "KeyboardInterrupt",
          "evalue": "",
          "output_type": "error",
          "traceback": [
            "\u001b[0;31m---------------------------------------------------------------------------\u001b[0m",
            "\u001b[0;31mKeyboardInterrupt\u001b[0m                         Traceback (most recent call last)",
            "Cell \u001b[0;32mIn[2], line 29\u001b[0m\n\u001b[1;32m     26\u001b[0m \u001b[39mfrom\u001b[39;00m \u001b[39mtf_agents\u001b[39;00m\u001b[39m.\u001b[39;00m\u001b[39mutils\u001b[39;00m \u001b[39mimport\u001b[39;00m common\n\u001b[1;32m     28\u001b[0m \u001b[39m# Set up a virtual display for rendering OpenAI gym environments.\u001b[39;00m\n\u001b[0;32m---> 29\u001b[0m display \u001b[39m=\u001b[39m pyvirtualdisplay\u001b[39m.\u001b[39;49mDisplay(visible\u001b[39m=\u001b[39;49m\u001b[39m0\u001b[39;49m, size\u001b[39m=\u001b[39;49m(\u001b[39m1400\u001b[39;49m, \u001b[39m900\u001b[39;49m))\u001b[39m.\u001b[39;49mstart()\n",
            "File \u001b[0;32m~/miniconda3/envs/bachelor/lib/python3.10/site-packages/pyvirtualdisplay/display.py:72\u001b[0m, in \u001b[0;36mDisplay.start\u001b[0;34m(self)\u001b[0m\n\u001b[1;32m     66\u001b[0m \u001b[39mdef\u001b[39;00m \u001b[39mstart\u001b[39m(\u001b[39mself\u001b[39m) \u001b[39m-\u001b[39m\u001b[39m>\u001b[39m \u001b[39m\"\u001b[39m\u001b[39mDisplay\u001b[39m\u001b[39m\"\u001b[39m:\n\u001b[1;32m     67\u001b[0m \u001b[39m    \u001b[39m\u001b[39m\"\"\"\u001b[39;00m\n\u001b[1;32m     68\u001b[0m \u001b[39m    start display\u001b[39;00m\n\u001b[1;32m     69\u001b[0m \n\u001b[1;32m     70\u001b[0m \u001b[39m    :rtype: self\u001b[39;00m\n\u001b[1;32m     71\u001b[0m \u001b[39m    \"\"\"\u001b[39;00m\n\u001b[0;32m---> 72\u001b[0m     \u001b[39mself\u001b[39;49m\u001b[39m.\u001b[39;49m_obj\u001b[39m.\u001b[39;49mstart()\n\u001b[1;32m     73\u001b[0m     \u001b[39mreturn\u001b[39;00m \u001b[39mself\u001b[39m\n",
            "File \u001b[0;32m~/miniconda3/envs/bachelor/lib/python3.10/site-packages/pyvirtualdisplay/abstractdisplay.py:149\u001b[0m, in \u001b[0;36mAbstractDisplay.start\u001b[0;34m(self)\u001b[0m\n\u001b[1;32m    146\u001b[0m \u001b[39mself\u001b[39m\u001b[39m.\u001b[39m_is_started \u001b[39m=\u001b[39m \u001b[39mTrue\u001b[39;00m\n\u001b[1;32m    148\u001b[0m \u001b[39mif\u001b[39;00m \u001b[39mself\u001b[39m\u001b[39m.\u001b[39m_has_displayfd:\n\u001b[0;32m--> 149\u001b[0m     \u001b[39mself\u001b[39;49m\u001b[39m.\u001b[39;49m_start1_has_displayfd()\n\u001b[1;32m    150\u001b[0m \u001b[39melse\u001b[39;00m:\n\u001b[1;32m    151\u001b[0m     i \u001b[39m=\u001b[39m \u001b[39m0\u001b[39m\n",
            "File \u001b[0;32m~/miniconda3/envs/bachelor/lib/python3.10/site-packages/pyvirtualdisplay/abstractdisplay.py:197\u001b[0m, in \u001b[0;36mAbstractDisplay._start1_has_displayfd\u001b[0;34m(self)\u001b[0m\n\u001b[1;32m    193\u001b[0m log\u001b[39m.\u001b[39mdebug(\u001b[39m\"\u001b[39m\u001b[39mcommand: \u001b[39m\u001b[39m%s\u001b[39;00m\u001b[39m\"\u001b[39m, \u001b[39mself\u001b[39m\u001b[39m.\u001b[39m_command)\n\u001b[1;32m    195\u001b[0m \u001b[39mself\u001b[39m\u001b[39m.\u001b[39m_popen(use_pass_fds\u001b[39m=\u001b[39m\u001b[39mTrue\u001b[39;00m)\n\u001b[0;32m--> 197\u001b[0m \u001b[39mself\u001b[39m\u001b[39m.\u001b[39mdisplay \u001b[39m=\u001b[39m \u001b[39mint\u001b[39m(\u001b[39mself\u001b[39;49m\u001b[39m.\u001b[39;49m_wait_for_pipe_text(rfd))\n\u001b[1;32m    198\u001b[0m os\u001b[39m.\u001b[39mclose(rfd)\n\u001b[1;32m    199\u001b[0m os\u001b[39m.\u001b[39mclose(\u001b[39mself\u001b[39m\u001b[39m.\u001b[39m_pipe_wfd)\n",
            "File \u001b[0;32m~/miniconda3/envs/bachelor/lib/python3.10/site-packages/pyvirtualdisplay/abstractdisplay.py:295\u001b[0m, in \u001b[0;36mAbstractDisplay._wait_for_pipe_text\u001b[0;34m(self, rfd)\u001b[0m\n\u001b[1;32m    293\u001b[0m start_time \u001b[39m=\u001b[39m time\u001b[39m.\u001b[39mtime()\n\u001b[1;32m    294\u001b[0m \u001b[39mwhile\u001b[39;00m \u001b[39mTrue\u001b[39;00m:\n\u001b[0;32m--> 295\u001b[0m     (rfd_changed_ls, _, _) \u001b[39m=\u001b[39m select\u001b[39m.\u001b[39;49mselect([rfd], [], [], \u001b[39m0.1\u001b[39;49m)\n\u001b[1;32m    296\u001b[0m     \u001b[39mif\u001b[39;00m \u001b[39mnot\u001b[39;00m \u001b[39mself\u001b[39m\u001b[39m.\u001b[39mis_alive():\n\u001b[1;32m    297\u001b[0m         \u001b[39mraise\u001b[39;00m XStartError(\n\u001b[1;32m    298\u001b[0m             \u001b[39m\"\u001b[39m\u001b[39m%s\u001b[39;00m\u001b[39m program closed. command: \u001b[39m\u001b[39m%s\u001b[39;00m\u001b[39m stderr: \u001b[39m\u001b[39m%s\u001b[39;00m\u001b[39m\"\u001b[39m\n\u001b[1;32m    299\u001b[0m             \u001b[39m%\u001b[39m (\u001b[39mself\u001b[39m\u001b[39m.\u001b[39m_program, \u001b[39mself\u001b[39m\u001b[39m.\u001b[39m_command, \u001b[39mself\u001b[39m\u001b[39m.\u001b[39mstderr)\n\u001b[1;32m    300\u001b[0m         )\n",
            "\u001b[0;31mKeyboardInterrupt\u001b[0m: "
          ]
        }
      ],
      "source": [
        "from __future__ import absolute_import\n",
        "from __future__ import division\n",
        "from __future__ import print_function\n",
        "\n",
        "import base64\n",
        "import imageio\n",
        "import IPython\n",
        "import matplotlib.pyplot as plt\n",
        "import numpy as np\n",
        "import PIL.Image\n",
        "import pyvirtualdisplay\n",
        "import reverb\n",
        "\n",
        "import tensorflow as tf\n",
        "\n",
        "from tf_agents.agents.reinforce import reinforce_agent\n",
        "from tf_agents.drivers import py_driver\n",
        "from tf_agents.environments import suite_gym\n",
        "from tf_agents.environments import tf_py_environment\n",
        "from tf_agents.networks import actor_distribution_network\n",
        "from tf_agents.policies import py_tf_eager_policy\n",
        "from tf_agents.replay_buffers import reverb_replay_buffer\n",
        "from tf_agents.replay_buffers import reverb_utils\n",
        "from tf_agents.specs import tensor_spec\n",
        "from tf_agents.trajectories import trajectory\n",
        "from tf_agents.utils import common\n",
        "\n",
        "# Set up a virtual display for rendering OpenAI gym environments.\n",
        "display = pyvirtualdisplay.Display(visible=0, size=(1400, 900)).start()"
      ]
    },
    {
      "cell_type": "markdown",
      "metadata": {
        "id": "LmC0NDhdLIKY"
      },
      "source": [
        "## Hyperparameters"
      ]
    },
    {
      "cell_type": "code",
      "execution_count": 3,
      "metadata": {
        "id": "HC1kNrOsLSIZ"
      },
      "outputs": [],
      "source": [
        "env_name = \"CartPole-v0\" # @param {type:\"string\"}\n",
        "num_iterations = 250 # @param {type:\"integer\"}\n",
        "collect_episodes_per_iteration = 2 # @param {type:\"integer\"}\n",
        "replay_buffer_capacity = 2000 # @param {type:\"integer\"}\n",
        "\n",
        "fc_layer_params = (100,)\n",
        "\n",
        "learning_rate = 1e-3 # @param {type:\"number\"}\n",
        "log_interval = 25 # @param {type:\"integer\"}\n",
        "num_eval_episodes = 10 # @param {type:\"integer\"}\n",
        "eval_interval = 50 # @param {type:\"integer\"}"
      ]
    },
    {
      "cell_type": "markdown",
      "metadata": {
        "id": "VMsJC3DEgI0x"
      },
      "source": [
        "## Environment\n",
        "\n",
        "Environments in RL represent the task or problem that we are trying to solve. Standard environments can be easily created in TF-Agents using `suites`. We have different `suites` for loading environments from sources such as the OpenAI Gym, Atari, DM Control, etc., given a string environment name.\n",
        "\n",
        "Now let us load the CartPole environment from the OpenAI Gym suite."
      ]
    },
    {
      "cell_type": "code",
      "execution_count": 4,
      "metadata": {
        "id": "pYEz-S9gEv2-"
      },
      "outputs": [],
      "source": [
        "env = suite_gym.load(env_name)"
      ]
    },
    {
      "cell_type": "markdown",
      "metadata": {
        "id": "IIHYVBkuvPNw"
      },
      "source": [
        "We can render this environment to see how it looks. A free-swinging pole is attached to a cart.  The goal is to move the cart right or left in order to keep the pole pointing up."
      ]
    },
    {
      "cell_type": "code",
      "execution_count": 5,
      "metadata": {
        "id": "RlO7WIQHu_7D"
      },
      "outputs": [
        {
          "name": "stderr",
          "output_type": "stream",
          "text": [
            "shm_open() failed: No such file or directory\n",
            "ALSA lib confmisc.c:855:(parse_card) cannot find card '0'\n",
            "ALSA lib conf.c:5180:(_snd_config_evaluate) function snd_func_card_inum returned error: No such file or directory\n",
            "ALSA lib confmisc.c:422:(snd_func_concat) error evaluating strings\n",
            "ALSA lib conf.c:5180:(_snd_config_evaluate) function snd_func_concat returned error: No such file or directory\n",
            "ALSA lib confmisc.c:1334:(snd_func_refer) error evaluating name\n",
            "ALSA lib conf.c:5180:(_snd_config_evaluate) function snd_func_refer returned error: No such file or directory\n",
            "ALSA lib conf.c:5703:(snd_config_expand) Evaluate error: No such file or directory\n",
            "ALSA lib pcm.c:2666:(snd_pcm_open_noupdate) Unknown PCM default\n"
          ]
        },
        {
          "data": {
            "image/jpeg": "[encoded data removed]",
            "image/png": "[encoded data removed]",
            "text/plain": [
              "<PIL.Image.Image image mode=RGB size=600x400>"
            ]
          },
          "execution_count": 5,
          "metadata": {},
          "output_type": "execute_result"
        }
      ],
      "source": [
        "#@test {\"skip\": true}\n",
        "env.reset()\n",
        "PIL.Image.fromarray(env.render())"
      ]
    },
    {
      "cell_type": "markdown",
      "metadata": {
        "id": "B9_lskPOey18"
      },
      "source": [
        "The `time_step = environment.step(action)` statement takes `action` in the environment.  The `TimeStep` tuple returned contains the environment's next observation and reward for that action. The `time_step_spec()` and `action_spec()` methods in the environment return the specifications (types, shapes, bounds) of the `time_step` and `action` respectively."
      ]
    },
    {
      "cell_type": "code",
      "execution_count": 6,
      "metadata": {
        "id": "exDv57iHfwQV"
      },
      "outputs": [
        {
          "name": "stdout",
          "output_type": "stream",
          "text": [
            "Observation Spec:\n",
            "BoundedArraySpec(shape=(4,), dtype=dtype('float32'), name='observation', minimum=[-4.8000002e+00 -3.4028235e+38 -4.1887903e-01 -3.4028235e+38], maximum=[4.8000002e+00 3.4028235e+38 4.1887903e-01 3.4028235e+38])\n",
            "Action Spec:\n",
            "BoundedArraySpec(shape=(), dtype=dtype('int64'), name='action', minimum=0, maximum=1)\n"
          ]
        }
      ],
      "source": [
        "print('Observation Spec:')\n",
        "print(env.time_step_spec().observation)\n",
        "print('Action Spec:')\n",
        "print(env.action_spec())"
      ]
    },
    {
      "cell_type": "markdown",
      "metadata": {
        "id": "eJCgJnx3g0yY"
      },
      "source": [
        "So, we see that observation is an array of 4 floats: the position and velocity of the cart, and the angular position and velocity of the pole. Since only two actions are possible (move left or move right), the `action_spec` is a scalar where 0 means \"move left\" and 1 means \"move right.\""
      ]
    },
    {
      "cell_type": "code",
      "execution_count": 7,
      "metadata": {
        "id": "V2UGR5t_iZX-"
      },
      "outputs": [
        {
          "name": "stdout",
          "output_type": "stream",
          "text": [
            "Time step:\n",
            "TimeStep(\n",
            "{'discount': array(1., dtype=float32),\n",
            " 'observation': array([ 0.02833202,  0.04920889, -0.01916637, -0.02694419], dtype=float32),\n",
            " 'reward': array(0., dtype=float32),\n",
            " 'step_type': array(0, dtype=int32)})\n",
            "Next time step:\n",
            "TimeStep(\n",
            "{'discount': array(1., dtype=float32),\n",
            " 'observation': array([ 0.02931619,  0.24460039, -0.01970525, -0.32561216], dtype=float32),\n",
            " 'reward': array(1., dtype=float32),\n",
            " 'step_type': array(1, dtype=int32)})\n"
          ]
        }
      ],
      "source": [
        "time_step = env.reset()\n",
        "print('Time step:')\n",
        "print(time_step)\n",
        "\n",
        "action = np.array(1, dtype=np.int32)\n",
        "\n",
        "next_time_step = env.step(action)\n",
        "print('Next time step:')\n",
        "print(next_time_step)"
      ]
    },
    {
      "cell_type": "markdown",
      "metadata": {
        "id": "zuUqXAVmecTU"
      },
      "source": [
        "Usually we create two environments: one for training and one for evaluation. Most environments are written in pure python, but they can be easily converted to TensorFlow using the `TFPyEnvironment` wrapper. The original environment's API uses numpy arrays, the `TFPyEnvironment` converts these to/from `Tensors` for you to more easily interact with TensorFlow policies and agents.\n"
      ]
    },
    {
      "cell_type": "code",
      "execution_count": 8,
      "metadata": {
        "id": "Xp-Y4mD6eDhF"
      },
      "outputs": [],
      "source": [
        "train_py_env = suite_gym.load(env_name)\n",
        "eval_py_env = suite_gym.load(env_name)\n",
        "\n",
        "train_env = tf_py_environment.TFPyEnvironment(train_py_env)\n",
        "eval_env = tf_py_environment.TFPyEnvironment(eval_py_env)"
      ]
    },
    {
      "cell_type": "markdown",
      "metadata": {
        "id": "E9lW_OZYFR8A"
      },
      "source": [
        "## Agent\n",
        "\n",
        "The algorithm that we use to solve an RL problem is represented as an `Agent`. In addition to the REINFORCE agent, TF-Agents provides standard implementations of a variety of `Agents` such as [DQN](https://storage.googleapis.com/deepmind-media/dqn/DQNNaturePaper.pdf), [DDPG](https://arxiv.org/pdf/1509.02971.pdf), [TD3](https://arxiv.org/pdf/1802.09477.pdf), [PPO](https://arxiv.org/abs/1707.06347) and [SAC](https://arxiv.org/abs/1801.01290).\n",
        "\n",
        "To create a REINFORCE Agent, we first need an `Actor Network` that can learn to predict the action given an observation from the environment.\n",
        "\n",
        "We can easily create an `Actor Network` using the specs of the observations and actions. We can specify the layers in the network which, in this example, is the `fc_layer_params` argument set to a tuple of `ints` representing the sizes of each hidden layer (see the Hyperparameters section above).\n"
      ]
    },
    {
      "cell_type": "code",
      "execution_count": 9,
      "metadata": {
        "id": "TgkdEPg_muzV"
      },
      "outputs": [],
      "source": [
        "actor_net = actor_distribution_network.ActorDistributionNetwork(\n",
        "    train_env.observation_spec(),\n",
        "    train_env.action_spec(),\n",
        "    fc_layer_params=fc_layer_params)"
      ]
    },
    {
      "cell_type": "markdown",
      "metadata": {
        "id": "z62u55hSmviJ"
      },
      "source": [
        "We also need an `optimizer` to train the network we just created, and a `train_step_counter` variable to keep track of how many times the network was updated.\n"
      ]
    },
    {
      "cell_type": "code",
      "execution_count": 10,
      "metadata": {
        "id": "jbY4yrjTEyc9"
      },
      "outputs": [
        {
          "name": "stderr",
          "output_type": "stream",
          "text": [
            "2023-07-17 13:32:33.960020: I tensorflow/compiler/xla/stream_executor/cuda/cuda_gpu_executor.cc:981] could not open file to read NUMA node: /sys/bus/pci/devices/0000:01:00.0/numa_node\n",
            "Your kernel may have been built without NUMA support.\n",
            "2023-07-17 13:32:33.982879: I tensorflow/compiler/xla/stream_executor/cuda/cuda_gpu_executor.cc:981] could not open file to read NUMA node: /sys/bus/pci/devices/0000:01:00.0/numa_node\n",
            "Your kernel may have been built without NUMA support.\n",
            "2023-07-17 13:32:33.982917: I tensorflow/compiler/xla/stream_executor/cuda/cuda_gpu_executor.cc:981] could not open file to read NUMA node: /sys/bus/pci/devices/0000:01:00.0/numa_node\n",
            "Your kernel may have been built without NUMA support.\n",
            "2023-07-17 13:32:33.985793: I tensorflow/compiler/xla/stream_executor/cuda/cuda_gpu_executor.cc:981] could not open file to read NUMA node: /sys/bus/pci/devices/0000:01:00.0/numa_node\n",
            "Your kernel may have been built without NUMA support.\n",
            "2023-07-17 13:32:33.985825: I tensorflow/compiler/xla/stream_executor/cuda/cuda_gpu_executor.cc:981] could not open file to read NUMA node: /sys/bus/pci/devices/0000:01:00.0/numa_node\n",
            "Your kernel may have been built without NUMA support.\n",
            "2023-07-17 13:32:33.985839: I tensorflow/compiler/xla/stream_executor/cuda/cuda_gpu_executor.cc:981] could not open file to read NUMA node: /sys/bus/pci/devices/0000:01:00.0/numa_node\n",
            "Your kernel may have been built without NUMA support.\n",
            "2023-07-17 13:32:34.453122: I tensorflow/compiler/xla/stream_executor/cuda/cuda_gpu_executor.cc:981] could not open file to read NUMA node: /sys/bus/pci/devices/0000:01:00.0/numa_node\n",
            "Your kernel may have been built without NUMA support.\n",
            "2023-07-17 13:32:34.453176: I tensorflow/compiler/xla/stream_executor/cuda/cuda_gpu_executor.cc:981] could not open file to read NUMA node: /sys/bus/pci/devices/0000:01:00.0/numa_node\n",
            "Your kernel may have been built without NUMA support.\n",
            "2023-07-17 13:32:34.453197: I tensorflow/core/common_runtime/gpu/gpu_device.cc:1726] Could not identify NUMA node of platform GPU id 0, defaulting to 0.  Your kernel may not have been built with NUMA support.\n",
            "2023-07-17 13:32:34.453220: I tensorflow/compiler/xla/stream_executor/cuda/cuda_gpu_executor.cc:981] could not open file to read NUMA node: /sys/bus/pci/devices/0000:01:00.0/numa_node\n",
            "Your kernel may have been built without NUMA support.\n",
            "2023-07-17 13:32:34.453241: I tensorflow/core/common_runtime/gpu/gpu_device.cc:1639] Created device /job:localhost/replica:0/task:0/device:GPU:0 with 9314 MB memory:  -> device: 0, name: NVIDIA GeForce RTX 4070 Ti, pci bus id: 0000:01:00.0, compute capability: 8.9\n",
            "2023-07-17 13:32:36.673704: I tensorflow/compiler/xla/stream_executor/cuda/cuda_blas.cc:606] TensorFloat-32 will be used for the matrix multiplication. This will only be logged once.\n"
          ]
        }
      ],
      "source": [
        "optimizer = tf.keras.optimizers.Adam(learning_rate=learning_rate)\n",
        "\n",
        "train_step_counter = tf.Variable(0)\n",
        "\n",
        "tf_agent = reinforce_agent.ReinforceAgent(\n",
        "    train_env.time_step_spec(),\n",
        "    train_env.action_spec(),\n",
        "    actor_network=actor_net,\n",
        "    optimizer=optimizer,\n",
        "    normalize_returns=True,\n",
        "    train_step_counter=train_step_counter)\n",
        "tf_agent.initialize()"
      ]
    },
    {
      "cell_type": "markdown",
      "metadata": {
        "id": "I0KLrEPwkn5x"
      },
      "source": [
        "## Policies\n",
        "\n",
        "In TF-Agents, policies represent the standard notion of policies in RL: given a `time_step` produce an action or a distribution over actions. The main method is `policy_step = policy.action(time_step)` where `policy_step` is a named tuple `PolicyStep(action, state, info)`.  The `policy_step.action` is the `action` to be applied to the environment, `state` represents the state for stateful (RNN) policies and `info` may contain auxiliary information such as log probabilities of the actions.\n",
        "\n",
        "Agents contain two policies: the main policy that is used for evaluation/deployment (agent.policy) and another policy that is used for data collection (agent.collect_policy)."
      ]
    },
    {
      "cell_type": "code",
      "execution_count": 11,
      "metadata": {
        "id": "BwY7StuMkuV4"
      },
      "outputs": [],
      "source": [
        "eval_policy = tf_agent.policy\n",
        "collect_policy = tf_agent.collect_policy"
      ]
    },
    {
      "cell_type": "markdown",
      "metadata": {
        "id": "94rCXQtbUbXv"
      },
      "source": [
        "## Metrics and Evaluation\n",
        "\n",
        "The most common metric used to evaluate a policy is the average return. The return is the sum of rewards obtained while running a policy in an environment for an episode, and we usually average this over a few episodes. We can compute the average return metric as follows.\n"
      ]
    },
    {
      "cell_type": "code",
      "execution_count": 12,
      "metadata": {
        "id": "bitzHo5_UbXy"
      },
      "outputs": [],
      "source": [
        "#@test {\"skip\": true}\n",
        "def compute_avg_return(environment, policy, num_episodes=10):\n",
        "\n",
        "  total_return = 0.0\n",
        "  for _ in range(num_episodes):\n",
        "\n",
        "    time_step = environment.reset()\n",
        "    episode_return = 0.0\n",
        "\n",
        "    while not time_step.is_last():\n",
        "      action_step = policy.action(time_step)\n",
        "      time_step = environment.step(action_step.action)\n",
        "      episode_return += time_step.reward\n",
        "    total_return += episode_return\n",
        "\n",
        "  avg_return = total_return / num_episodes\n",
        "  return avg_return.numpy()[0]\n",
        "\n",
        "\n",
        "# Please also see the metrics module for standard implementations of different\n",
        "# metrics."
      ]
    },
    {
      "cell_type": "markdown",
      "metadata": {
        "id": "NLva6g2jdWgr"
      },
      "source": [
        "## Replay Buffer\n",
        "\n",
        "In order to keep track of the data collected from the environment, we will use [Reverb](https://deepmind.com/research/open-source/Reverb), an efficient, extensible, and easy-to-use replay system by Deepmind. It stores experience data when we collect trajectories and is consumed during training.\n",
        "\n",
        "This replay buffer is constructed using specs describing the tensors that are to be stored, which can be obtained from the agent using `tf_agent.collect_data_spec`."
      ]
    },
    {
      "cell_type": "code",
      "execution_count": 13,
      "metadata": {
        "id": "vX2zGUWJGWAl"
      },
      "outputs": [
        {
          "name": "stderr",
          "output_type": "stream",
          "text": [
            "[reverb/cc/platform/tfrecord_checkpointer.cc:162]  Initializing TFRecordCheckpointer in /tmp/tmp9rr_p0kw.\n",
            "[reverb/cc/platform/tfrecord_checkpointer.cc:567] Loading latest checkpoint from /tmp/tmp9rr_p0kw\n",
            "[reverb/cc/platform/default/server.cc:71] Started replay server on port 36715\n"
          ]
        }
      ],
      "source": [
        "table_name = 'uniform_table'\n",
        "replay_buffer_signature = tensor_spec.from_spec(\n",
        "      tf_agent.collect_data_spec)\n",
        "replay_buffer_signature = tensor_spec.add_outer_dim(\n",
        "      replay_buffer_signature)\n",
        "table = reverb.Table(\n",
        "    table_name,\n",
        "    max_size=replay_buffer_capacity,\n",
        "    sampler=reverb.selectors.Uniform(),\n",
        "    remover=reverb.selectors.Fifo(),\n",
        "    rate_limiter=reverb.rate_limiters.MinSize(1),\n",
        "    signature=replay_buffer_signature)\n",
        "\n",
        "reverb_server = reverb.Server([table])\n",
        "\n",
        "replay_buffer = reverb_replay_buffer.ReverbReplayBuffer(\n",
        "    tf_agent.collect_data_spec,\n",
        "    table_name=table_name,\n",
        "    sequence_length=None,\n",
        "    local_server=reverb_server)\n",
        "\n",
        "rb_observer = reverb_utils.ReverbAddEpisodeObserver(\n",
        "    replay_buffer.py_client,\n",
        "    table_name,\n",
        "    replay_buffer_capacity\n",
        ")"
      ]
    },
    {
      "cell_type": "markdown",
      "metadata": {
        "id": "ZGNTDJpZs4NN"
      },
      "source": [
        "For most agents, the `collect_data_spec` is a `Trajectory` named tuple containing the observation, action, reward etc."
      ]
    },
    {
      "cell_type": "markdown",
      "metadata": {
        "id": "rVD5nQ9ZGo8_"
      },
      "source": [
        "## Data Collection\n",
        "\n",
        "As REINFORCE learns from whole episodes, we define a function to collect an episode using the given data collection policy and save the data (observations, actions, rewards etc.) as trajectories in the replay buffer. Here we are using 'PyDriver' to run the experience collecting loop. You can learn more about TF Agents driver in our [drivers tutorial](https://www.tensorflow.org/agents/tutorials/4_drivers_tutorial)."
      ]
    },
    {
      "cell_type": "code",
      "execution_count": 14,
      "metadata": {
        "id": "wr1KSAEGG4h9"
      },
      "outputs": [],
      "source": [
        "#@test {\"skip\": true}\n",
        "\n",
        "def collect_episode(environment, policy, num_episodes):\n",
        "\n",
        "  driver = py_driver.PyDriver(\n",
        "    environment,\n",
        "    py_tf_eager_policy.PyTFEagerPolicy(\n",
        "      policy, use_tf_function=True),\n",
        "    [rb_observer],\n",
        "    max_episodes=num_episodes)\n",
        "  initial_time_step = environment.reset()\n",
        "  driver.run(initial_time_step)"
      ]
    },
    {
      "cell_type": "markdown",
      "metadata": {
        "id": "hBc9lj9VWWtZ"
      },
      "source": [
        "## Training the agent\n",
        "\n",
        "The training loop involves both collecting data from the environment and optimizing the agent's networks. Along the way, we will occasionally evaluate the agent's policy to see how we are doing.\n",
        "\n",
        "The following will take ~3 minutes to run."
      ]
    },
    {
      "cell_type": "code",
      "execution_count": 15,
      "metadata": {
        "id": "0pTbJ3PeyF-u"
      },
      "outputs": [
        {
          "name": "stderr",
          "output_type": "stream",
          "text": [
            "[reverb/cc/client.cc:165] Sampler and server are owned by the same process (5821) so Table uniform_table is accessed directly without gRPC.\n",
            "2023-07-17 13:33:07.918267: I tensorflow/compiler/xla/service/service.cc:168] XLA service 0x7f1cd8384fd0 initialized for platform CUDA (this does not guarantee that XLA will be used). Devices:\n",
            "2023-07-17 13:33:07.918292: I tensorflow/compiler/xla/service/service.cc:176]   StreamExecutor device (0): NVIDIA GeForce RTX 4070 Ti, Compute Capability 8.9\n",
            "2023-07-17 13:33:07.921070: I tensorflow/compiler/mlir/tensorflow/utils/dump_mlir_util.cc:255] disabling MLIR crash reproducer, set env var `MLIR_CRASH_REPRODUCER_DIRECTORY` to enable.\n",
            "2023-07-17 13:33:08.012424: I tensorflow/compiler/xla/stream_executor/cuda/cuda_dnn.cc:432] Loaded cuDNN version 8600\n",
            "2023-07-17 13:33:08.094681: I ./tensorflow/compiler/jit/device_compiler.h:186] Compiled cluster using XLA!  This line is logged at most once for the lifetime of the process.\n",
            "[reverb/cc/client.cc:165] Sampler and server are owned by the same process (5821) so Table uniform_table is accessed directly without gRPC.\n",
            "[reverb/cc/client.cc:165] Sampler and server are owned by the same process (5821) so Table uniform_table is accessed directly without gRPC.\n",
            "[reverb/cc/client.cc:165] Sampler and server are owned by the same process (5821) so Table uniform_table is accessed directly without gRPC.\n",
            "[reverb/cc/client.cc:165] Sampler and server are owned by the same process (5821) so Table uniform_table is accessed directly without gRPC.\n"
          ]
        },
        {
          "name": "stdout",
          "output_type": "stream",
          "text": [
            "step = 25: loss = 1.2402358055114746\n"
          ]
        },
        {
          "name": "stderr",
          "output_type": "stream",
          "text": [
            "[reverb/cc/client.cc:165] Sampler and server are owned by the same process (5821) so Table uniform_table is accessed directly without gRPC.\n"
          ]
        },
        {
          "name": "stdout",
          "output_type": "stream",
          "text": [
            "step = 50: loss = 1.0776501893997192\n",
            "step = 50: Average Return = 46.900001525878906\n"
          ]
        },
        {
          "name": "stderr",
          "output_type": "stream",
          "text": [
            "[reverb/cc/client.cc:165] Sampler and server are owned by the same process (5821) so Table uniform_table is accessed directly without gRPC.\n"
          ]
        },
        {
          "name": "stdout",
          "output_type": "stream",
          "text": [
            "step = 75: loss = 0.19692087173461914\n",
            "step = 100: loss = 1.0944509506225586\n",
            "step = 100: Average Return = 102.19999694824219\n",
            "step = 125: loss = -0.04372000694274902\n"
          ]
        },
        {
          "name": "stderr",
          "output_type": "stream",
          "text": [
            "[reverb/cc/client.cc:165] Sampler and server are owned by the same process (5821) so Table uniform_table is accessed directly without gRPC.\n"
          ]
        },
        {
          "name": "stdout",
          "output_type": "stream",
          "text": [
            "step = 150: loss = 1.5814552307128906\n",
            "step = 150: Average Return = 105.0999984741211\n",
            "step = 175: loss = -2.467578887939453\n",
            "step = 200: loss = 2.6845531463623047\n",
            "step = 200: Average Return = 161.39999389648438\n",
            "step = 225: loss = 0.17337989807128906\n",
            "step = 250: loss = -2.996683120727539\n",
            "step = 250: Average Return = 188.3000030517578\n"
          ]
        }
      ],
      "source": [
        "#@test {\"skip\": true}\n",
        "try:\n",
        "  %%time\n",
        "except:\n",
        "  pass\n",
        "\n",
        "# (Optional) Optimize by wrapping some of the code in a graph using TF function.\n",
        "tf_agent.train = common.function(tf_agent.train)\n",
        "\n",
        "# Reset the train step\n",
        "tf_agent.train_step_counter.assign(0)\n",
        "\n",
        "# Evaluate the agent's policy once before training.\n",
        "avg_return = compute_avg_return(eval_env, tf_agent.policy, num_eval_episodes)\n",
        "returns = [avg_return]\n",
        "\n",
        "for _ in range(num_iterations):\n",
        "\n",
        "  # Collect a few episodes using collect_policy and save to the replay buffer.\n",
        "  collect_episode(\n",
        "      train_py_env, tf_agent.collect_policy, collect_episodes_per_iteration)\n",
        "\n",
        "  # Use data from the buffer and update the agent's network.\n",
        "  iterator = iter(replay_buffer.as_dataset(sample_batch_size=1))\n",
        "  trajectories, _ = next(iterator)\n",
        "  train_loss = tf_agent.train(experience=trajectories)  \n",
        "\n",
        "  replay_buffer.clear()\n",
        "\n",
        "  step = tf_agent.train_step_counter.numpy()\n",
        "\n",
        "  if step % log_interval == 0:\n",
        "    print('step = {0}: loss = {1}'.format(step, train_loss.loss))\n",
        "\n",
        "  if step % eval_interval == 0:\n",
        "    avg_return = compute_avg_return(eval_env, tf_agent.policy, num_eval_episodes)\n",
        "    print('step = {0}: Average Return = {1}'.format(step, avg_return))\n",
        "    returns.append(avg_return)"
      ]
    },
    {
      "cell_type": "markdown",
      "metadata": {
        "id": "68jNcA_TiJDq"
      },
      "source": [
        "## Visualization\n"
      ]
    },
    {
      "cell_type": "markdown",
      "metadata": {
        "id": "aO-LWCdbbOIC"
      },
      "source": [
        "### Plots\n",
        "\n",
        "We can plot return vs global steps to see the performance of our agent. In `Cartpole-v0`, the environment gives a reward of +1 for every time step the pole stays up, and since the maximum number of steps is 200, the maximum possible return is also 200."
      ]
    },
    {
      "cell_type": "code",
      "execution_count": 16,
      "metadata": {
        "id": "NxtL1mbOYCVO"
      },
      "outputs": [
        {
          "data": {
            "text/plain": [
              "(0.7699996471405033, 250.0)"
            ]
          },
          "execution_count": 16,
          "metadata": {},
          "output_type": "execute_result"
        },
        {
          "data": {
            "image/png": "[encoded data removed]",
            "text/plain": [
              "<Figure size 640x480 with 1 Axes>"
            ]
          },
          "metadata": {},
          "output_type": "display_data"
        }
      ],
      "source": [
        "#@test {\"skip\": true}\n",
        "\n",
        "steps = range(0, num_iterations + 1, eval_interval)\n",
        "plt.plot(steps, returns)\n",
        "plt.ylabel('Average Return')\n",
        "plt.xlabel('Step')\n",
        "plt.ylim(top=250)"
      ]
    },
    {
      "cell_type": "markdown",
      "metadata": {
        "id": "M7-XpPP99Cy7"
      },
      "source": [
        "### Videos"
      ]
    },
    {
      "cell_type": "markdown",
      "metadata": {
        "id": "9pGfGxSH32gn"
      },
      "source": [
        "It is helpful to visualize the performance of an agent by rendering the environment at each step. Before we do that, let us first create a function to embed videos in this colab."
      ]
    },
    {
      "cell_type": "code",
      "execution_count": 17,
      "metadata": {
        "id": "ULaGr8pvOKbl"
      },
      "outputs": [],
      "source": [
        "def embed_mp4(filename):\n",
        "  \"\"\"Embeds an mp4 file in the notebook.\"\"\"\n",
        "  video = open(filename,'rb').read()\n",
        "  b64 = base64.b64encode(video)\n",
        "  tag = '''\n",
        "  <video width=\"640\" height=\"480\" controls>\n",
        "    <source src=\"data:video/mp4;base64,{0}\" type=\"video/mp4\">\n",
        "  Your browser does not support the video tag.\n",
        "  </video>'''.format(b64.decode())\n",
        "\n",
        "  return IPython.display.HTML(tag)"
      ]
    },
    {
      "cell_type": "markdown",
      "metadata": {
        "id": "9c_PH-pX4Pr5"
      },
      "source": [
        "The following code visualizes the agent's policy for a few episodes:"
      ]
    },
    {
      "cell_type": "code",
      "execution_count": 18,
      "metadata": {
        "id": "owOVWB158NlF"
      },
      "outputs": [
        {
          "name": "stderr",
          "output_type": "stream",
          "text": [
            "shm_open() failed: No such file or directory\n",
            "ALSA lib confmisc.c:855:(parse_card) cannot find card '0'\n",
            "ALSA lib conf.c:5180:(_snd_config_evaluate) function snd_func_card_inum returned error: No such file or directory\n",
            "ALSA lib confmisc.c:422:(snd_func_concat) error evaluating strings\n",
            "ALSA lib conf.c:5180:(_snd_config_evaluate) function snd_func_concat returned error: No such file or directory\n",
            "ALSA lib confmisc.c:1334:(snd_func_refer) error evaluating name\n",
            "ALSA lib conf.c:5180:(_snd_config_evaluate) function snd_func_refer returned error: No such file or directory\n",
            "ALSA lib conf.c:5703:(snd_config_expand) Evaluate error: No such file or directory\n",
            "ALSA lib pcm.c:2666:(snd_pcm_open_noupdate) Unknown PCM default\n",
            "WARNING:root:IMAGEIO FFMPEG_WRITER WARNING: input image is not divisible by macro_block_size=16, resizing from (400, 600) to (400, 608) to ensure video compatibility with most codecs and players. To prevent resizing, make your input image divisible by the macro_block_size or set the macro_block_size to None (risking incompatibility). You may also see a FFMPEG warning concerning speedloss due to data not being aligned.\n",
            "ffmpeg: /home/renlephy/miniconda3/envs/bachelor/lib/libncursesw.so.6: no version information available (required by /lib/x86_64-linux-gnu/libcaca.so.0)\n",
            "ffmpeg: /home/renlephy/miniconda3/envs/bachelor/lib/libncursesw.so.6: no version information available (required by /lib/x86_64-linux-gnu/libcaca.so.0)\n",
            "ffmpeg: /home/renlephy/miniconda3/envs/bachelor/lib/libtinfo.so.6: no version information available (required by /lib/x86_64-linux-gnu/libcaca.so.0)\n",
            "[swscaler @ 0x555c31d17400] Warning: data is not aligned! This can lead to a speed loss\n"
          ]
        },
        {
          "data": {
            "text/html": [
              "\n",
              "  <video width=\"640\" height=\"480\" controls>\n",
              "    <source src=\"data:video/mp4;base64,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\" type=\"video/mp4\">\n",
              "  Your browser does not support the video tag.\n",
              "  </video>"
            ],
            "text/plain": [
              "<IPython.core.display.HTML object>"
            ]
          },
          "execution_count": 18,
          "metadata": {},
          "output_type": "execute_result"
        }
      ],
      "source": [
        "num_episodes = 3\n",
        "video_filename = 'imageio.mp4'\n",
        "with imageio.get_writer(video_filename, fps=60) as video:\n",
        "  for _ in range(num_episodes):\n",
        "    time_step = eval_env.reset()\n",
        "    video.append_data(eval_py_env.render())\n",
        "    while not time_step.is_last():\n",
        "      action_step = tf_agent.policy.action(time_step)\n",
        "      time_step = eval_env.step(action_step.action)\n",
        "      video.append_data(eval_py_env.render())\n",
        "\n",
        "embed_mp4(video_filename)"
      ]
    },
    {
      "cell_type": "code",
      "execution_count": null,
      "metadata": {},
      "outputs": [],
      "source": []
    }
  ],
  "metadata": {
    "accelerator": "GPU",
    "colab": {
      "collapsed_sections": [],
      "name": "6_reinforce_tutorial.ipynb",
      "provenance": [],
      "toc_visible": true
    },
    "kernelspec": {
      "display_name": "Python 3",
      "name": "python3"
    },
    "language_info": {
      "codemirror_mode": {
        "name": "ipython",
        "version": 3
      },
      "file_extension": ".py",
      "mimetype": "text/x-python",
      "name": "python",
      "nbconvert_exporter": "python",
      "pygments_lexer": "ipython3",
      "version": "3.10.12"
    }
  },
  "nbformat": 4,
  "nbformat_minor": 0
}
